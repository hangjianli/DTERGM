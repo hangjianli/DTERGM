{
 "cells": [
  {
   "cell_type": "code",
   "execution_count": 1,
   "id": "e3c138af",
   "metadata": {},
   "outputs": [],
   "source": [
    "import matplotlib.pyplot as plt"
   ]
  },
  {
   "cell_type": "code",
   "execution_count": 2,
   "id": "dcf5ff84",
   "metadata": {},
   "outputs": [],
   "source": [
    "def plot_theta(theta, filename, thr=3, change_pts=None):\n",
    "    \"\"\"Plot \"\"\"\n",
    "    t, p = theta.shape\n",
    "    fig, axx = plt.subplots(1, 1, figsize=(21, 5))\n",
    "    norm_diff = np.linalg.norm(np.diff(theta, axis=0), ord=2, axis=1)\n",
    "    estimated_change_pts = np.arange(t-1)[norm_diff > thr] + 1\n",
    "    print(f\"The estimated change points are {estimated_change_pts}\")\n",
    "    axx.plot(np.arange(1, t), norm_diff)\n",
    "    if change_pts is not None:\n",
    "        for i, cp in enumerate(change_pts):\n",
    "            axx.vlines(x = cp, ymin=0, ymax=max(norm_diff), ls = '--', color = 'r',\n",
    "                       label='True change points' if i == 0 else \"\")\n",
    "    axx.set_title(\"l2-norm difference in theta between t and t+1\", fontsize=30)\n",
    "    fig.tight_layout()\n",
    "    plt.legend(fontsize=20)\n",
    "    plt.savefig(filename, bbox_inches='tight')\n",
    "    plt.close(fig)\n"
   ]
  },
  {
   "cell_type": "code",
   "execution_count": null,
   "id": "6333324a",
   "metadata": {},
   "outputs": [],
   "source": []
  }
 ],
 "metadata": {
  "kernelspec": {
   "display_name": "Python 3 (ipykernel)",
   "language": "python",
   "name": "python3"
  },
  "language_info": {
   "codemirror_mode": {
    "name": "ipython",
    "version": 3
   },
   "file_extension": ".py",
   "mimetype": "text/x-python",
   "name": "python",
   "nbconvert_exporter": "python",
   "pygments_lexer": "ipython3",
   "version": "3.9.9"
  }
 },
 "nbformat": 4,
 "nbformat_minor": 5
}
