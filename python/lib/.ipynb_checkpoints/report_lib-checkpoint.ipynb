{
 "cells": [
  {
   "cell_type": "code",
   "execution_count": 1,
   "id": "e3c138af",
   "metadata": {},
   "outputs": [],
   "source": [
    "import matplotlib.pyplot as plt"
   ]
  },
  {
   "cell_type": "code",
   "execution_count": null,
   "id": "6333324a",
   "metadata": {},
   "outputs": [],
   "source": [
    "def plot_theta(\n",
    "    theta, \n",
    "    fig_title,\n",
    "    output_dir, \n",
    "    thr=3, \n",
    "    change_pts=None\n",
    "):\n",
    "    \"\"\"Plot \"\"\"\n",
    "    t, p = theta.shape\n",
    "    fig, axx = plt.subplots(1, 1, figsize=(21, 5))\n",
    "    norm_diff = np.linalg.norm(np.diff(theta, axis=0), ord=2, axis=1)\n",
    "    estimated_change_pts = np.arange(t-1)[norm_diff > thr] + 1\n",
    "    print(f\"The estimated change points are {estimated_change_pts}\")\n",
    "    axx.plot(np.arange(1, t), norm_diff, 'o-')\n",
    "    if change_pts is not None:\n",
    "        for i, cp in enumerate(change_pts):\n",
    "            axx.vlines(x = cp, ymin=0, ymax=max(norm_diff), ls = '--', color = 'r',\n",
    "                       label='True change points' if i == 0 else \"\")\n",
    "    axx.set_title(f\"{fig_title}\", fontsize=30)\n",
    "    fig.tight_layout()\n",
    "    axx.legend(fontsize=20)\n",
    "    plt.savefig(output_dir, bbox_inches='tight')\n",
    "    plt.close(fig)\n"
   ]
  },
  {
   "cell_type": "code",
   "execution_count": null,
   "id": "3a90e760",
   "metadata": {},
   "outputs": [],
   "source": [
    "def plot_mit_cpts(\n",
    "    theta, \n",
    "    exp_name,\n",
    "    output_dir, \n",
    "    thr=3, \n",
    "    change_pts=None\n",
    "):\n",
    "    t, p = theta.shape\n",
    "    fig, axx = plt.subplots(1, 1, figsize=(21, 5))\n",
    "    norm_diff = np.linalg.norm(np.diff(theta, axis=0), ord=2, axis=1)\n",
    "    beg_date = date(2004, 9, 15)\n",
    "    df_theta_diff = pd.DataFrame(norm_diff, columns=[\"norm_diff\"])\n",
    "    df_theta_diff.index = pd.date_range(beg_date, periods=231, freq='D')\n",
    "    estimated_change_pts = df_theta_diff.query(\"norm_diff > 0.1\")\n",
    "    axx.plot(df_theta_diff)\n",
    "    axx.vlines(\n",
    "        x = estimated_change_pts.index, \n",
    "        ymin=0, \n",
    "        ymax=max(norm_diff), \n",
    "        ls = '--', color = 'r',\n",
    "        label='Est change points'\n",
    "    )\n",
    "    for dt in estimated_change_pts.index:\n",
    "        plt.text(dt + pd.DateOffset(1),1, dt.date())\n",
    "\n",
    "    axx.set_title(\"MIT phone data change points\", fontsize=30)\n",
    "    fig.tight_layout()\n",
    "    axx.legend(loc=\"upper left\", fontsize=20)\n",
    "    plt.savefig(output_dir, bbox_inches='tight')\n",
    "    plt.close(fig)\n"
   ]
  }
 ],
 "metadata": {
  "kernelspec": {
   "display_name": "Python 3 (ipykernel)",
   "language": "python",
   "name": "python3"
  },
  "language_info": {
   "codemirror_mode": {
    "name": "ipython",
    "version": 3
   },
   "file_extension": ".py",
   "mimetype": "text/x-python",
   "name": "python",
   "nbconvert_exporter": "python",
   "pygments_lexer": "ipython3",
   "version": "3.9.9"
  }
 },
 "nbformat": 4,
 "nbformat_minor": 5
}
