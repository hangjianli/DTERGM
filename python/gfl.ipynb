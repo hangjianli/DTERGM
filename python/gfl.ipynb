{
 "cells": [
  {
   "cell_type": "code",
   "execution_count": 1,
   "id": "806f7327",
   "metadata": {},
   "outputs": [
    {
     "data": {
      "text/html": [
       "<style>.container { width:100% !important; }</style>"
      ],
      "text/plain": [
       "<IPython.core.display.HTML object>"
      ]
     },
     "metadata": {},
     "output_type": "display_data"
    }
   ],
   "source": [
    "import numpy as np\n",
    "import matplotlib.pyplot as plt\n",
    "import time\n",
    "import logging\n",
    "\n",
    "logging.basicConfig(level=logging.INFO)\n",
    "\n",
    "from IPython.core.display import display, HTML\n",
    "display(HTML(\"<style>.container { width:100% !important; }</style>\"))\n",
    "\n"
   ]
  },
  {
   "cell_type": "code",
   "execution_count": 2,
   "id": "e6533b87",
   "metadata": {},
   "outputs": [],
   "source": [
    "import os\n",
    "import sys\n",
    "module_path = os.path.abspath(os.path.join('..'))\n",
    "if module_path not in sys.path:\n",
    "    sys.path.append(module_path)\n",
    "    \n",
    "from gfl.gfl import *"
   ]
  },
  {
   "cell_type": "code",
   "execution_count": 3,
   "id": "9123fd60",
   "metadata": {},
   "outputs": [],
   "source": [
    "T = 50\n",
    "p = 3"
   ]
  },
  {
   "cell_type": "code",
   "execution_count": 4,
   "id": "7871d0c4",
   "metadata": {},
   "outputs": [],
   "source": [
    "np.random.seed(1)"
   ]
  },
  {
   "cell_type": "code",
   "execution_count": 5,
   "id": "4f9319b0",
   "metadata": {},
   "outputs": [],
   "source": [
    "Y1 = np.concatenate(\n",
    "    (\n",
    "        np.random.normal(20, size=int(T/5)), \n",
    "        np.random.normal(1, size=int(T/2)),\n",
    "        np.random.normal(3, size=T - int(T/2)-int(T/5))\n",
    "    )\n",
    ")\n",
    "\n",
    "\n",
    "Y2 = np.concatenate(\n",
    "    (\n",
    "        np.random.normal(6, size=int(T/5)), \n",
    "        np.random.normal(15, size=int(T/2)),\n",
    "        np.random.normal(30, size=T - int(T/2)-int(T/5))\n",
    "    )\n",
    ")\n",
    "\n",
    "Y3 = np.concatenate(\n",
    "    (\n",
    "        np.random.normal(30, size=int(T/4)), \n",
    "        np.random.normal(8, size=int(T/2)),\n",
    "        np.random.normal(4, size=T - int(T/2)-int(T/4))\n",
    "    )\n",
    ")"
   ]
  },
  {
   "cell_type": "code",
   "execution_count": 6,
   "id": "00ad3a1b",
   "metadata": {},
   "outputs": [],
   "source": [
    "Y = np.column_stack((Y1, Y2, Y3))"
   ]
  },
  {
   "cell_type": "code",
   "execution_count": 7,
   "id": "829373e6",
   "metadata": {},
   "outputs": [
    {
     "data": {
      "text/plain": [
       "(50, 3)"
      ]
     },
     "execution_count": 7,
     "metadata": {},
     "output_type": "execute_result"
    }
   ],
   "source": [
    "Y.shape"
   ]
  },
  {
   "cell_type": "code",
   "execution_count": 8,
   "id": "b0e86f10",
   "metadata": {
    "scrolled": true
   },
   "outputs": [
    {
     "data": {
      "image/png": "[encoded data removed]",
      "text/plain": [
       "<Figure size 432x288 with 1 Axes>"
      ]
     },
     "metadata": {
      "needs_background": "light"
     },
     "output_type": "display_data"
    }
   ],
   "source": [
    "plt.plot(Y);"
   ]
  },
  {
   "cell_type": "markdown",
   "id": "e706000b",
   "metadata": {},
   "source": [
    "# GLF method"
   ]
  },
  {
   "cell_type": "code",
   "execution_count": 9,
   "id": "8320543b",
   "metadata": {},
   "outputs": [],
   "source": [
    "# beta = np.array(\n",
    "#     [[ -6.0745,   40.1046,  -12.4790],\n",
    "#      [ 5.8884 ,   8.1235 ,   4.1614],\n",
    "#      [ 0.9460 ,   1.5141 ,   1.4289],\n",
    "#      [-0.0147  ,  1.6391 ,  -1.2194]]\n",
    "# )"
   ]
  },
  {
   "cell_type": "code",
   "execution_count": 10,
   "id": "c950648d",
   "metadata": {},
   "outputs": [],
   "source": [
    "# active_set = np.array([35,10,12,37]).reshape(-1,1)"
   ]
  },
  {
   "cell_type": "code",
   "execution_count": 11,
   "id": "d4bcb3a4",
   "metadata": {
    "scrolled": true
   },
   "outputs": [],
   "source": [
    "# active_set[[True, False, True, False]]"
   ]
  },
  {
   "cell_type": "code",
   "execution_count": 12,
   "id": "10d4ff9e",
   "metadata": {},
   "outputs": [
    {
     "name": "stderr",
     "output_type": "stream",
     "text": [
      "INFO:root:[optimize] Iteration 1\n",
      " beta:\n",
      " [[0. 0. 0.]] \n",
      " active_set:\n",
      " [[11]]\n",
      " Obj: 5816.877532180895 \n",
      "-----------------------------------\n",
      "INFO:root:[optimize] Iteration 2\n",
      " beta:\n",
      " [[-40.14725913  35.99786835 -62.44868151]\n",
      " [  0.           0.           0.        ]] \n",
      " active_set:\n",
      " [[11]\n",
      " [34]]\n",
      " Obj: 1861.2688162324966 \n",
      "-----------------------------------\n",
      "INFO:root:[optimize] Iteration 3\n",
      " beta:\n",
      " [[-41.09014356  23.03010739 -58.2136045 ]\n",
      " [  4.25179762  38.74949486 -10.95478641]\n",
      " [  0.           0.           0.        ]] \n",
      " active_set:\n",
      " [[11]\n",
      " [34]\n",
      " [ 9]]\n",
      " Obj: 913.7990776849847 \n",
      "-----------------------------------\n",
      "INFO:root:[optimize] Iteration 4\n",
      " beta:\n",
      " [[-15.50660144   9.8685815  -40.4476331 ]\n",
      " [  4.91010821  38.44689483 -11.38911677]\n",
      " [-31.26993458  15.87741969 -18.2925996 ]\n",
      " [  0.           0.           0.        ]] \n",
      " active_set:\n",
      " [[11]\n",
      " [34]\n",
      " [ 9]\n",
      " [36]]\n",
      " Obj: 671.55991125444 \n",
      "-----------------------------------\n",
      "INFO:root:Optimality conditions are met!!!\n",
      "INFO:root:[optimize] Iteration 5\n",
      " beta:\n",
      " [[-15.5056817    9.86893234 -40.43787818]\n",
      " [  4.81397563  37.88226116 -11.12609395]\n",
      " [-31.27277677  15.87965001 -18.29344   ]\n",
      " [  0.11249614   0.61477416  -0.31841148]] \n",
      " active_set:\n",
      " [[11]\n",
      " [34]\n",
      " [ 9]\n",
      " [36]]\n",
      " Obj: 671.107516333962 \n",
      "-----------------------------------\n",
      "INFO:root:Total time: 0.028348922729492188\n"
     ]
    }
   ],
   "source": [
    "res = gflasso(Y, lams=[10])"
   ]
  },
  {
   "cell_type": "markdown",
   "id": "235da5ff",
   "metadata": {},
   "source": [
    "# Test"
   ]
  },
  {
   "cell_type": "code",
   "execution_count": 43,
   "id": "e00073b2",
   "metadata": {},
   "outputs": [],
   "source": [
    "T, p = Y.shape\n",
    "# mean_signal = np.mean(Y, axis=0)\n",
    "w = default_weights(T)\n",
    "# Compute C = X'*Y\n",
    "C = left_multiply_by_xt(Y, w)"
   ]
  },
  {
   "cell_type": "code",
   "execution_count": 44,
   "id": "723772f9",
   "metadata": {},
   "outputs": [],
   "source": [
    "beta = []\n",
    "active_set = []\n",
    "lam = 10\n",
    "xty = C.copy()\n",
    "y = Y.copy()\n",
    "solved = False\n",
    "n = 50"
   ]
  },
  {
   "cell_type": "code",
   "execution_count": 46,
   "id": "f57fcf42",
   "metadata": {
    "scrolled": true
   },
   "outputs": [
    {
     "name": "stderr",
     "output_type": "stream",
     "text": [
      "INFO:root:[optimize] Iteration 1\n",
      " beta:\n",
      " [[0. 0. 0.]] \n",
      " active_set:\n",
      " [[11]]\n",
      " Obj: 5816.877532180895 \n",
      "-----------------------------------\n",
      "INFO:root:[optimize] Iteration 2\n",
      " beta:\n",
      " [[-40.14725913  35.99786835 -62.44868151]\n",
      " [  0.           0.           0.        ]] \n",
      " active_set:\n",
      " [[11]\n",
      " [34]]\n",
      " Obj: 1861.2688162324966 \n",
      "-----------------------------------\n",
      "INFO:root:[optimize] Iteration 3\n",
      " beta:\n",
      " [[-41.09014356  23.03010739 -58.2136045 ]\n",
      " [  4.25179762  38.74949486 -10.95478641]\n",
      " [  0.           0.           0.        ]] \n",
      " active_set:\n",
      " [[11]\n",
      " [34]\n",
      " [ 9]]\n",
      " Obj: 913.7990776849847 \n",
      "-----------------------------------\n",
      "INFO:root:[optimize] Iteration 4\n",
      " beta:\n",
      " [[-15.50660144   9.8685815  -40.4476331 ]\n",
      " [  4.91010821  38.44689483 -11.38911677]\n",
      " [-31.26993458  15.87741969 -18.2925996 ]\n",
      " [  0.           0.           0.        ]] \n",
      " active_set:\n",
      " [[11]\n",
      " [34]\n",
      " [ 9]\n",
      " [36]]\n",
      " Obj: 671.55991125444 \n",
      "-----------------------------------\n",
      "INFO:root:Amazing!!!\n",
      "INFO:root:[optimize] Iteration 5\n",
      " beta:\n",
      " [[-15.5056817    9.86893234 -40.43787818]\n",
      " [  4.81397563  37.88226116 -11.12609395]\n",
      " [-31.27277677  15.87965001 -18.29344   ]\n",
      " [  0.11249614   0.61477416  -0.31841148]] \n",
      " active_set:\n",
      " [[11]\n",
      " [34]\n",
      " [ 9]\n",
      " [36]]\n",
      " Obj: 671.107516333962 \n",
      "-----------------------------------\n",
      "INFO:root:Total time: 0.030704975128173828\n",
      "INFO:root:solved is True. Bravo!\n"
     ]
    }
   ],
   "source": [
    "res = optimize(beta, active_set, lam, xty, y, w, verbose=1)"
   ]
  },
  {
   "cell_type": "markdown",
   "id": "38251542",
   "metadata": {},
   "source": [
    "# Optimize current lambda with a warm restart from the previous lambda\n",
    " "
   ]
  },
  {
   "cell_type": "code",
   "execution_count": null,
   "id": "67a9141d",
   "metadata": {},
   "outputs": [],
   "source": []
  }
 ],
 "metadata": {
  "kernelspec": {
   "display_name": "Python 3 (ipykernel)",
   "language": "python",
   "name": "python3"
  },
  "language_info": {
   "codemirror_mode": {
    "name": "ipython",
    "version": 3
   },
   "file_extension": ".py",
   "mimetype": "text/x-python",
   "name": "python",
   "nbconvert_exporter": "python",
   "pygments_lexer": "ipython3",
   "version": "3.9.9"
  }
 },
 "nbformat": 4,
 "nbformat_minor": 5
}
