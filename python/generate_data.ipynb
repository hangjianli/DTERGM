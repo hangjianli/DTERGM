{
 "cells": [
  {
   "cell_type": "code",
   "execution_count": null,
   "id": "reported-offer",
   "metadata": {},
   "outputs": [],
   "source": [
    "\n",
    "network = importr(\n",
    "    \"network\",\n",
    "    robject_translations={\n",
    "    \"as.tibble.network\": \"as_tibble_network\",\n",
    "    \"as_tibble.network\": \"as_tibble_network\",\n",
    "    \"network.initialize\": \"network_initialize\"\n",
    "    },\n",
    "    on_conflict=\"warn\"\n",
    ")\n",
    "\n"
   ]
  }
 ],
 "metadata": {
  "kernelspec": {
   "display_name": "Python 3",
   "language": "python",
   "name": "python3"
  },
  "language_info": {
   "codemirror_mode": {
    "name": "ipython",
    "version": 3
   },
   "file_extension": ".py",
   "mimetype": "text/x-python",
   "name": "python",
   "nbconvert_exporter": "python",
   "pygments_lexer": "ipython3",
   "version": "3.9.2"
  }
 },
 "nbformat": 4,
 "nbformat_minor": 5
}
