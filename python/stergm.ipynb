{
 "cells": [
  {
   "cell_type": "code",
   "execution_count": 8,
   "id": "ad3d1dba",
   "metadata": {},
   "outputs": [
    {
     "data": {
      "text/html": [
       "<style>.container { width:95% !important; }</style>"
      ],
      "text/plain": [
       "<IPython.core.display.HTML object>"
      ]
     },
     "metadata": {},
     "output_type": "display_data"
    }
   ],
   "source": [
    "from IPython.core.display import display, HTML\n",
    "display(HTML(\"<style>.container { width:95% !important; }</style>\"))"
   ]
  },
  {
   "cell_type": "code",
   "execution_count": 38,
   "id": "187f09d4",
   "metadata": {},
   "outputs": [],
   "source": [
    "import numpy as np\n",
    "import argparse\n",
    "import ast\n",
    "import time\n",
    "import utils\n",
    "import matplotlib.pyplot as plt\n",
    "import logging"
   ]
  },
  {
   "cell_type": "code",
   "execution_count": 41,
   "id": "a3ad10ee",
   "metadata": {},
   "outputs": [],
   "source": [
    "logging.basicConfig(level=logging.INFO)"
   ]
  },
  {
   "cell_type": "code",
   "execution_count": 49,
   "id": "202547ac",
   "metadata": {},
   "outputs": [],
   "source": [
    "# import sys\n",
    "# sys.path.append(\"/Users/hangjianli/Documents/research/change_point/gflsegpy/\")"
   ]
  },
  {
   "cell_type": "code",
   "execution_count": 50,
   "id": "2146f6c1",
   "metadata": {},
   "outputs": [],
   "source": [
    "# import gflsegpy as seg  "
   ]
  },
  {
   "cell_type": "code",
   "execution_count": 9,
   "id": "d480ef64",
   "metadata": {},
   "outputs": [],
   "source": [
    "def plot_theta(theta, filename, thr=3, change_pts=None):\n",
    "    \"\"\"Plot \"\"\"\n",
    "    t, p = theta.shape\n",
    "    fig, axx = plt.subplots(1, 1, figsize=(21, 5))\n",
    "    norm_diff = np.linalg.norm(np.diff(theta, axis=0), ord=2, axis=1)\n",
    "    estimated_change_pts = np.arange(t-1)[norm_diff > thr] + 1\n",
    "    print(f\"The estimated change points are {estimated_change_pts}\")\n",
    "    axx.plot(np.arange(1, t), norm_diff)\n",
    "    if change_pts is not None:\n",
    "        for i, cp in enumerate(change_pts):\n",
    "            axx.vlines(x = cp, ymin=0, ymax=max(norm_diff), ls = '--', color = 'r',\n",
    "                       label='True change points' if i == 0 else \"\")\n",
    "    axx.set_title(\"l2-norm difference in theta between t and t+1\", fontsize=30)\n",
    "    fig.tight_layout()\n",
    "    plt.legend(fontsize=20)\n",
    "    plt.savefig(filename, bbox_inches='tight')\n",
    "    plt.close(fig)\n"
   ]
  },
  {
   "cell_type": "code",
   "execution_count": 34,
   "id": "9e9202a2",
   "metadata": {},
   "outputs": [],
   "source": [
    "# current directory should be '/Users/hangjianli/Documents/research/change_point/python'\n",
    "outdir = \"../output/scenario1\" "
   ]
  },
  {
   "cell_type": "markdown",
   "id": "153b07f5",
   "metadata": {},
   "source": [
    "### Load setup info and data"
   ]
  },
  {
   "cell_type": "code",
   "execution_count": 43,
   "id": "5b0237d0",
   "metadata": {},
   "outputs": [
    {
     "name": "stderr",
     "output_type": "stream",
     "text": [
      "INFO:root:Loading network statistics and edge data...\n",
      "INFO:root:Data has dimension (t, n, p): (150, 20, 4)\n"
     ]
    }
   ],
   "source": [
    "logging.info(\"Loading network statistics and edge data...\")\n",
    "experiment_dir = outdir + ('' if outdir.endswith('/') else '/')\n",
    "\n",
    "with open(experiment_dir + 'args/args.txt', 'r') as f: # comes from make_data.py\n",
    "    sim_args_str = f.read()\n",
    "\n",
    "sim_args = ast.literal_eval(sim_args_str)\n",
    "p = len(sim_args['form_terms']) + len(sim_args['diss_terms'])\n",
    "\n",
    "H = np.loadtxt(experiment_dir + sim_args['data_name'] + '_H.txt') # suff stats\n",
    "y = np.loadtxt(experiment_dir + sim_args['data_name'] + '_y.txt') # networks\n",
    "\n",
    "t = H.shape[0]\n",
    "H = H.reshape((t, -1, p)) # t x n^2(E) x p\n",
    "n = np.sqrt(H.shape[1]).astype(int)\n",
    "logging.info(f\"Data has dimension (t, n, p): ({t}, {n}, {p})\")"
   ]
  },
  {
   "cell_type": "code",
   "execution_count": 46,
   "id": "0fee30b0",
   "metadata": {},
   "outputs": [],
   "source": [
    "args = {\n",
    "    'outdir': \"../output/newsim1\",\n",
    "    'lam': 10,\n",
    "    'admm_alpha': 1,\n",
    "    'solver': 'newton',\n",
    "    'rel_tol': 1e-7, #Stopping criterion for change in theta\n",
    "    'max_steps': 100,\n",
    "    'max_steps_newton': 100,\n",
    "    'conv_tol': 1e-5,\n",
    "    'gd_lr': 0.01,\n",
    "    'gd_epochs': 100,\n",
    "    'gfl_tol':1e-5,\n",
    "    'gfl_maxit':1000,\n",
    "    'true_cp': None, #True change points (for plot).\n",
    "    \"cp_thr\": 3, #\"Threshold for estimating change points\n",
    "}\n"
   ]
  },
  {
   "cell_type": "markdown",
   "id": "6102f8a7",
   "metadata": {},
   "source": [
    "### Save args and define output files"
   ]
  },
  {
   "cell_type": "code",
   "execution_count": 48,
   "id": "ceee4af0",
   "metadata": {},
   "outputs": [],
   "source": [
    "# Get the output filenames\n",
    "result_dir = utils.make_directory(experiment_dir, 'results')\n",
    "args_dir = utils.make_directory(experiment_dir, 'args')\n",
    "utils.save_args(args, args_dir + 'args_model.txt')\n",
    "\n",
    "theta_outfile = result_dir + 'theta_' + sim_args['data_name'] + \".txt\"\n",
    "u_outfile = result_dir + 'u_' + sim_args['data_name'] + \".txt\"\n",
    "z_outfile = result_dir + 'z_' + sim_args['data_name'] + \".txt\"\n",
    "theta_plot_dir = result_dir + 'est_theta_diff.png'"
   ]
  },
  {
   "cell_type": "markdown",
   "id": "5c0d9366",
   "metadata": {},
   "source": [
    "### Run STERGM model"
   ]
  },
  {
   "cell_type": "code",
   "execution_count": null,
   "id": "6b0df756",
   "metadata": {},
   "outputs": [],
   "source": [
    "print('Initialize STERGM model...')\n",
    "model = mple_learn.STERGMGraph(\n",
    "    lam=args.lam,\n",
    "    admm_alpha=args.admm_alpha,\n",
    "    rel_tol=args.rel_tol,\n",
    "    max_steps=args.max_steps,\n",
    "    newton_max_steps=args.max_steps_newton,\n",
    "    converge_tol=args.conv_tol,\n",
    "    gd_lr=args.gd_lr,\n",
    "    gd_epochs=args.gd_epochs,\n",
    "    gfl_tol=args.gfl_tol,\n",
    "    gfl_maxit=args.gfl_maxit,\n",
    "    verbose=sim_args[\"verbose\"])\n",
    "\n",
    "model.load_data(H, y, t, p)\n",
    "\n",
    "print(\"Run mple to estimate theta...\")\n",
    "start = time.time()\n",
    "res = model.mple(solver=args.solver)\n",
    "end = time.time()\n",
    "print(f\"[INFO] MPLE finished in: {end - start}.\")\n",
    "theta = res['theta']\n",
    "u = res['u']\n",
    "z = res['z']\n",
    "\n",
    "print(\"Saving estimated parameters...\")\n",
    "np.savetxt(theta_outfile, theta)\n",
    "np.savetxt(u_outfile, u)\n",
    "np.savetxt(z_outfile, z)\n",
    "\n",
    "plot_theta(theta, theta_plot_dir, args.cp_thr, args.true_cp)\n",
    "print(\"Done!\")"
   ]
  },
  {
   "cell_type": "markdown",
   "id": "10b220aa",
   "metadata": {},
   "source": []
  }
 ],
 "metadata": {
  "kernelspec": {
   "display_name": "Python 3 (ipykernel)",
   "language": "python",
   "name": "python3"
  },
  "language_info": {
   "codemirror_mode": {
    "name": "ipython",
    "version": 3
   },
   "file_extension": ".py",
   "mimetype": "text/x-python",
   "name": "python",
   "nbconvert_exporter": "python",
   "pygments_lexer": "ipython3",
   "version": "3.9.9"
  }
 },
 "nbformat": 4,
 "nbformat_minor": 5
}
