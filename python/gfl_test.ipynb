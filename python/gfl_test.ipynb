{
 "cells": [
  {
   "cell_type": "code",
   "execution_count": 2,
   "id": "e6e5a2b6",
   "metadata": {},
   "outputs": [
    {
     "data": {
      "text/html": [
       "<style>.container { width:100% !important; }</style>"
      ],
      "text/plain": [
       "<IPython.core.display.HTML object>"
      ]
     },
     "metadata": {},
     "output_type": "display_data"
    }
   ],
   "source": [
    "from IPython.core.display import display, HTML\n",
    "display(HTML(\"<style>.container { width:100% !important; }</style>\"))"
   ]
  },
  {
   "cell_type": "code",
   "execution_count": 3,
   "id": "837f5e37",
   "metadata": {},
   "outputs": [],
   "source": [
    "import numpy as np\n",
    "import matplotlib.pyplot as plt\n",
    "import time\n",
    "import logging\n",
    "\n",
    "logging.basicConfig(level=logging.INFO)"
   ]
  },
  {
   "cell_type": "code",
   "execution_count": 4,
   "id": "d5e2b059",
   "metadata": {},
   "outputs": [],
   "source": [
    "from gfl import *"
   ]
  },
  {
   "cell_type": "code",
   "execution_count": 5,
   "id": "9123fd60",
   "metadata": {},
   "outputs": [],
   "source": [
    "T = 50\n",
    "p = 3"
   ]
  },
  {
   "cell_type": "code",
   "execution_count": 6,
   "id": "4f9319b0",
   "metadata": {},
   "outputs": [],
   "source": [
    "Y1 = np.concatenate(\n",
    "    (\n",
    "        np.random.normal(1, size=int(T/5)), \n",
    "        np.random.normal(5, size=int(T/2)),\n",
    "        np.random.normal(3, size=T - int(T/2)-int(T/5))\n",
    "    )\n",
    ")\n",
    "\n",
    "\n",
    "Y2 = np.concatenate(\n",
    "    (\n",
    "        np.random.normal(10, size=int(T/5)), \n",
    "        np.random.normal(15, size=int(T/2)),\n",
    "        np.random.normal(30, size=T - int(T/2)-int(T/5))\n",
    "    )\n",
    ")\n",
    "\n",
    "Y3 = np.concatenate(\n",
    "    (\n",
    "        np.random.normal(4, size=int(T/4)), \n",
    "        np.random.normal(8, size=int(T/2)),\n",
    "        np.random.normal(1, size=T - int(T/2)-int(T/4))\n",
    "    )\n",
    ")"
   ]
  },
  {
   "cell_type": "code",
   "execution_count": 7,
   "id": "00ad3a1b",
   "metadata": {},
   "outputs": [],
   "source": [
    "Y = np.column_stack((Y1, Y2, Y3))"
   ]
  },
  {
   "cell_type": "code",
   "execution_count": 34,
   "id": "27ff59df",
   "metadata": {},
   "outputs": [
    {
     "data": {
      "text/plain": [
       "array([[ 0.50088684,  7.49023946,  4.82659292],\n",
       "       [ 0.92116709, 10.04610663,  3.13227252],\n",
       "       [ 0.44464019, 10.84176394,  4.17472986],\n",
       "       [ 1.16229926,  9.63893232,  5.1377135 ],\n",
       "       [ 3.12342398, 10.85210813,  3.97012479],\n",
       "       [-0.46647533, 12.00729851,  2.55974753],\n",
       "       [ 1.03183151,  9.74638674,  4.69833725],\n",
       "       [ 1.35018898, 11.22525261,  3.47207913],\n",
       "       [-1.18491647, 10.28924778,  4.38666434],\n",
       "       [-0.34345571,  8.46371767,  4.88754517],\n",
       "       [ 4.89172367, 14.19747851,  4.8989507 ],\n",
       "       [ 3.81008152, 14.41556646,  4.58749967],\n",
       "       [ 3.50653404, 15.38236103,  9.33856418],\n",
       "       [ 6.77711157, 13.63323864,  7.41690582],\n",
       "       [ 6.7670751 , 15.20719749,  7.43670885],\n",
       "       [ 4.92505458, 15.37063179,  7.41226865],\n",
       "       [ 3.48144436, 15.5036258 ,  8.38000476],\n",
       "       [ 5.72663399, 15.63711564,  7.03143528],\n",
       "       [ 5.43157622, 13.75861802,  8.25781071],\n",
       "       [ 5.08974353, 16.24510577,  8.00865358],\n",
       "       [ 5.00173709, 13.80735069,  7.788886  ],\n",
       "       [ 5.36814624, 15.24393326,  7.60212616],\n",
       "       [ 5.11615081, 15.74216337,  8.18847641],\n",
       "       [ 5.28939671, 13.76347244,  8.089687  ],\n",
       "       [ 3.55625694, 13.05422104,  8.07064764],\n",
       "       [ 6.66224389, 13.03749347,  8.72441444],\n",
       "       [ 4.53876061, 17.06559682,  9.10392858],\n",
       "       [ 4.86071501, 15.76324743,  6.40445619],\n",
       "       [ 7.19591484, 15.54247565,  8.91760333],\n",
       "       [ 3.60035376, 14.90293496,  7.62874616],\n",
       "       [ 5.35331661, 15.05758188,  9.40523734],\n",
       "       [ 4.75610927, 15.05579136,  8.57080709],\n",
       "       [ 5.22363854, 15.77856548,  9.04997168],\n",
       "       [ 4.73828072, 15.90245966,  6.90161192],\n",
       "       [ 5.34407413, 14.51933069,  8.65921019],\n",
       "       [ 1.99578608, 30.85694145,  7.01049931],\n",
       "       [ 5.27121933, 30.27265322,  9.91033313],\n",
       "       [ 3.11815097, 30.81150682,  2.20907851],\n",
       "       [ 3.43530538, 30.09682315, -0.48673175],\n",
       "       [ 3.21275887, 30.14038395,  1.84574498],\n",
       "       [ 3.9585396 , 30.49740136,  0.2368994 ],\n",
       "       [ 2.80526375, 30.54468971, -0.1805771 ],\n",
       "       [ 3.16624788, 29.15706052,  2.543125  ],\n",
       "       [ 2.29375532, 30.40761637,  1.05171644],\n",
       "       [ 3.44500938, 28.60745466,  0.33321723],\n",
       "       [ 3.77202858, 30.60149036, -0.6972193 ],\n",
       "       [ 2.9857175 , 30.07228486,  2.36901073],\n",
       "       [ 3.1657388 , 29.57237719,  1.79823288],\n",
       "       [ 1.79980404, 30.17215227,  1.00862299],\n",
       "       [ 2.66202805, 30.24347602,  0.60491876]])"
      ]
     },
     "execution_count": 34,
     "metadata": {},
     "output_type": "execute_result"
    }
   ],
   "source": [
    "Y"
   ]
  },
  {
   "cell_type": "code",
   "execution_count": 8,
   "id": "b0e86f10",
   "metadata": {},
   "outputs": [
    {
     "data": {
      "image/png": "[encoded data removed]",
      "text/plain": [
       "<Figure size 432x288 with 1 Axes>"
      ]
     },
     "metadata": {
      "needs_background": "light"
     },
     "output_type": "display_data"
    }
   ],
   "source": [
    "plt.plot(Y);"
   ]
  },
  {
   "cell_type": "markdown",
   "id": "e706000b",
   "metadata": {},
   "source": [
    "# GLF method"
   ]
  },
  {
   "cell_type": "code",
   "execution_count": 9,
   "id": "9ba87e08",
   "metadata": {},
   "outputs": [],
   "source": [
    "def default_weights(n):\n",
    "    a = 1 + np.arange(n-1)\n",
    "    w = np.sqrt(n / (a * (n-a)))\n",
    "    return w"
   ]
  },
  {
   "cell_type": "code",
   "execution_count": 10,
   "id": "c3adeff4",
   "metadata": {},
   "outputs": [],
   "source": [
    "def left_multiply_by_xt(Y, w):\n",
    "    \"\"\"Fast computation for X'*Y for the group fused Lasso\"\"\"\n",
    "    n, p = Y.shape\n",
    "    u = np.cumsum(Y, axis=0)\n",
    "    part1 = np.arange(1,n).reshape(-1,1) @ u[-1].reshape(1,-1) / n - u[:-1]\n",
    "    part2 = np.array([w,]*p).transpose()\n",
    "    C = np.multiply(part1, part2)\n",
    "    return C"
   ]
  },
  {
   "cell_type": "code",
   "execution_count": 11,
   "id": "b2c84413",
   "metadata": {},
   "outputs": [],
   "source": [
    "def compute_S():\n",
    "    pass"
   ]
  },
  {
   "cell_type": "code",
   "execution_count": 12,
   "id": "eff94246",
   "metadata": {},
   "outputs": [],
   "source": [
    "def reconstruct_signal(n, act_set, beta, w, meansignal):\n",
    "    \"\"\"Reconstruct a piecewise constant profile from its increments\"\"\"\n",
    "    a, p = beta.shape \n",
    "    # a: number of change points\n",
    "    # p: dimension of signal\n",
    "    \n",
    "    signal = np.zeros((n, p))\n",
    "    weights = np.array([w[act_set.reshape(-1,1) - 1]] * p).transpose()\n",
    "    signal[act_set.flatten()] = np.multiply(beta, weights).reshape(-1, p)\n",
    "    signal = np.cumsum(signal, axis=0)\n",
    "    \n",
    "    # set the mean signla to meansignal\n",
    "    m = meansignal - np.mean(signal, axis=0)\n",
    "    signal += np.array([m]*n)\n",
    "    \n",
    "    return signal"
   ]
  },
  {
   "cell_type": "code",
   "execution_count": 13,
   "id": "8367d76b",
   "metadata": {},
   "outputs": [],
   "source": [
    "def xtx(n, A, B, w):\n",
    "    \"\"\"\n",
    "    Compute X[:, A].T * X[:, B], where X is the design matrix of the weighted GFL\n",
    "    \n",
    "    Parameters:\n",
    "    ----------\n",
    "    n:\n",
    "    A: a column vector of indices in [0, n-2]\n",
    "    B: a column vector of indices in [0, n-2]\n",
    "    w: (n-1) * 1 column vector of weights\n",
    "    \"\"\"\n",
    "    \n",
    "    u = np.array([A]*len(B)).transpose().reshape(len(A), len(B))\n",
    "    v = np.array([B]*len(A)).reshape(len(A), len(B))\n",
    "    tmp = np.multiply(n-np.maximum(u,v), w[A-1] @ w[B-1].T)/n\n",
    "    g = np.multiply(np.minimum(u, v), tmp)\n",
    "    return g\n",
    "    "
   ]
  },
  {
   "cell_type": "code",
   "execution_count": 222,
   "id": "3b156f20",
   "metadata": {},
   "outputs": [],
   "source": [
    "u = np.array([A]*len(B)).transpose().reshape(len(A), len(B))\n",
    "v = np.array([B]*len(A)).reshape(len(A), len(B))\n"
   ]
  },
  {
   "cell_type": "code",
   "execution_count": 15,
   "id": "8320543b",
   "metadata": {},
   "outputs": [],
   "source": [
    "beta = np.array([[ -6.0745,   40.1046,  -12.4790],\n",
    "   [ 5.8884 ,   8.1235 ,   4.1614],\n",
    "   [ 0.9460 ,   1.5141 ,   1.4289],\n",
    "   [-0.0147  ,  1.6391 ,  -1.2194]])"
   ]
  },
  {
   "cell_type": "code",
   "execution_count": 26,
   "id": "c950648d",
   "metadata": {},
   "outputs": [],
   "source": [
    "active_set = np.array([35,10,12,37]).reshape(-1,1)"
   ]
  },
  {
   "cell_type": "code",
   "execution_count": 33,
   "id": "adf564dc",
   "metadata": {},
   "outputs": [
    {
     "data": {
      "text/plain": [
       "array([[35],\n",
       "       [10],\n",
       "       [12],\n",
       "       [37]])"
      ]
     },
     "execution_count": 33,
     "metadata": {},
     "output_type": "execute_result"
    }
   ],
   "source": [
    "active_set"
   ]
  },
  {
   "cell_type": "code",
   "execution_count": 19,
   "id": "62550948",
   "metadata": {},
   "outputs": [],
   "source": [
    "w = default_weights(len(Y))"
   ]
  },
  {
   "cell_type": "code",
   "execution_count": 21,
   "id": "28860dbd",
   "metadata": {},
   "outputs": [],
   "source": [
    "def block_coordinate_descent(beta, active_set, xty, n, w, lam):\n",
    "    \"\"\"Block coordinate descent over the active set of beta\n",
    "    \n",
    "    Parameters\n",
    "    ----------\n",
    "    beta: (np.array): a by p matrix as initializer\n",
    "    active_set: (array): a by 1 matrix with indices of nonzero beta_t, in the range of [1, T-1]\n",
    "    \n",
    "    \n",
    "    Returns:\n",
    "            \n",
    "    \"\"\"\n",
    "    tol = 1e-8\n",
    "    maxit = 1e5\n",
    "    gain = 2*tol*np.ones(a);\n",
    "    \n",
    "    a, p = beta.shape\n",
    "    norm_beta = np.linalg.norm(beta, axis=1)\n",
    "    \n",
    "    if a > 0:\n",
    "        \n",
    "        itc = 0\n",
    "        while(any(gain > tol) & (itc < maxit)):\n",
    "            i = np.mod(itc, a)\n",
    "            asi = active_set[i]\n",
    "            \n",
    "            # Compute the vector S\n",
    "            XitX = xtx(n, asi, active_set, w)\n",
    "            gammai = XitX.flatten()[i]\n",
    "            indwithouti = np.array([k for k in range(a) if k != i])\n",
    "            \n",
    "            S = xty[i, :] - XitX.flatten()[indwithouti] @ beta[indwithouti, :]\n",
    "            \n",
    "            nS = np.linalg.norm(S)\n",
    "            if nS < lam:\n",
    "                newbeta = np.zeros(1, p) # If |S| < lambda, then softshriholding returns zero\n",
    "            else:\n",
    "                newbeta = S * (1 - lam / nS) / gammai # Otherwise, shrink S following eq.(9)\n",
    "            \n",
    "            # compute the gain in the objective funtion at this iteration\n",
    "            new_norm_beta = np.linalg.norm(newbeta)\n",
    "            gain[i] = (gammai*(norm_beta[i] + new_norm_beta)/2 + lam)*(norm_beta[i]-new_norm_beta) + \\\n",
    "                        S @ (newbeta - beta[i,:])\n",
    "            \n",
    "            if verbose:\n",
    "                logging.info(f\"\")\n",
    "                \n",
    "            # update beta\n",
    "            beta = np.vstack((beta, newbeta))\n",
    "            norm_beta[i] = new_norm_beta\n",
    "            \n",
    "            itc += 1\n",
    "            \n",
    "    return beta\n",
    "    "
   ]
  },
  {
   "cell_type": "code",
   "execution_count": 22,
   "id": "b6e80d32",
   "metadata": {},
   "outputs": [],
   "source": [
    "def multiplyXtXbysparse(n, active_set, beta, w):\n",
    "    \"\"\"\"\"\"\n",
    "    a, p = beta.shape\n",
    "    \n",
    "    if a == 0:\n",
    "        return np.zeros((n-1, p))\n",
    "    else:\n",
    "        beta = np.multiply(beta, np.array([w[active_set-1]]*p).transpose().reshape(-1, p))\n",
    "        s = np.zeros((n-1, p))\n",
    "        s[active_set.flatten()-1,:] = beta\n",
    "        s = np.cumsum(s[::-1,:], 0)[::-1,:]\n",
    "        u = active_set.flatten() @ beta\n",
    "        \n",
    "        s = s - np.array([u]*(n-1)) / n\n",
    "        \n",
    "        r = np.cumsum(s, 0)\n",
    "        \n",
    "        r = np.multiply(r, np.array([w]*p).transpose())\n",
    "\n",
    "    return r"
   ]
  },
  {
   "cell_type": "code",
   "execution_count": 58,
   "id": "394f4212",
   "metadata": {},
   "outputs": [],
   "source": [
    "def reconstruct_signal(n, active_set, beta, weights, meansignal=None):\n",
    "    \"\"\" Reconstruct a piecewise-constant profile from its increments.\"\"\"\n",
    "    \n",
    "    a, p = beta.shape\n",
    "    \n",
    "    if meansignal is None:\n",
    "        meansignal = np.zeros((1,p))\n",
    "    \n",
    "    signal = np.zeros((n, p))\n",
    "    signal[active_set.flatten(), :] = np.multiply(beta, np.array([w[active_set.flatten()-1]]*p).transpose())\n",
    "    signal = np.cumsum(signal, 0)\n",
    "    \n",
    "    # Set the mean signal to meansignal\n",
    "    m = meansignal - np.mean(signal, 0)\n",
    "    signal = signal + np.array([m]*n)\n",
    "    \n",
    "    return signal"
   ]
  },
  {
   "cell_type": "code",
   "execution_count": 64,
   "id": "50a4e4e4",
   "metadata": {},
   "outputs": [
    {
     "ename": "NameError",
     "evalue": "name 'X' is not defined",
     "output_type": "error",
     "traceback": [
      "\u001b[0;31m---------------------------------------------------------------------------\u001b[0m",
      "\u001b[0;31mNameError\u001b[0m                                 Traceback (most recent call last)",
      "\u001b[0;32m/var/folders/t7/r21p79ln70b2np280y_ww2l00000gn/T/ipykernel_5223/3777217377.py\u001b[0m in \u001b[0;36m<module>\u001b[0;34m\u001b[0m\n\u001b[0;32m----> 1\u001b[0;31m \u001b[0mX\u001b[0m\u001b[0;34m\u001b[0m\u001b[0;34m\u001b[0m\u001b[0m\n\u001b[0m",
      "\u001b[0;31mNameError\u001b[0m: name 'X' is not defined"
     ]
    }
   ],
   "source": []
  },
  {
   "cell_type": "code",
   "execution_count": 23,
   "id": "83132ea2",
   "metadata": {},
   "outputs": [],
   "source": [
    "def optimize(beta, active_set, lam, xty, y, w):\n",
    "    \n",
    "    tol = 1e-8\n",
    "    \n",
    "    it = 1\n",
    "    n, p = xty.shape\n",
    "    \n",
    "    n += 1\n",
    "    solved = False\n",
    "    t_start = time.time()\n",
    "    itc = 1\n",
    "    meansignal = np.mean(Y, axis=0)\n",
    "    res = {}\n",
    "    \n",
    "    while not solved:\n",
    "        # optimize gfl given current active set\n",
    "        beta = block_coordinate_descent(beta, active_set, xty[active_set, :], n, w, lam)\n",
    "\n",
    "        # update active set\n",
    "        nonzero_coef = np.sum(beta**2) != 0 #TODO\n",
    "        active_set = active_set.flatten()[nonzero_coef]\n",
    "        beta = beta[nonzero_coef, :]\n",
    "        \n",
    "        # Check optimality\n",
    "        S = multiplyXtXbysparse(n, active_set, beta, w) - xty\n",
    "        normS = np.sum(S**2, axis=1)\n",
    "        \n",
    "        if not active_set:\n",
    "            maxnormS = np.max(normS)\n",
    "            imax = np.argmax(normS)\n",
    "            if maxnormS < lam**2 + tol:\n",
    "                solved = True\n",
    "            else:\n",
    "                active_set = np.array([imax])\n",
    "                beta = np.zeros((1, p))\n",
    "        else:\n",
    "            # for i in AS: normS[i] = lam^2\n",
    "            # for i not in AS: normS[i] < lam^2\n",
    "            \n",
    "            lagr = max(normS[active_set-1])\n",
    "            lagr = min(lagr, lam**2)\n",
    "            nonas = np.setdiff1d(np.arange(1,n), active_set) - 1\n",
    "            y = np.max(normS[nonas])\n",
    "            i = np.argmax(normS[nonas])\n",
    "            \n",
    "            if (len(nonas) == 0 or y < lagr + tol):\n",
    "                # optimality conditions are met; we found the global solution\n",
    "                solved = True\n",
    "            else:\n",
    "                # Otherwise we add the block that violates most the optimality condition\n",
    "                active_set = np.vstack((active_set, nonas[i]))\n",
    "                beta = np.vstack((beta, np.zeros((1,p))))\n",
    "          \n",
    "        X = reconstruct_signal(n, active_set, beta, w, meansignal)    \n",
    "        XE = X[1:, :] - X[:-1, :]\n",
    "        \n",
    "#         out.obj(iter) = 0.5*norm(X-Y,'fro')^2 + lambda*onetwonorm(XE');\n",
    "        res['beta'] = beta\n",
    "        res['active_set'] = active_set\n",
    "        res['X'] = X\n",
    "        \n",
    "        if itc % 10 == 0 & verbose >= 1:\n",
    "            print(f\"Iter: {itc}\")\n",
    "        if time.time() - t_start > max_time\n",
    "          break\n",
    "        itc += 1\n",
    "        t_end = time.time() - t_start\n",
    "        \n",
    "                         \n",
    "    return res\n",
    "            "
   ]
  },
  {
   "cell_type": "code",
   "execution_count": 270,
   "id": "d26af6aa",
   "metadata": {},
   "outputs": [],
   "source": [
    "itc = 0\n",
    "beta\n",
    "a, p = beta.shape\n",
    "xty = C"
   ]
  },
  {
   "cell_type": "code",
   "execution_count": 190,
   "id": "a9244918",
   "metadata": {
    "scrolled": true
   },
   "outputs": [
    {
     "data": {
      "text/plain": [
       "array([[-6.07450e+00,  4.01046e+01, -1.24790e+01],\n",
       "       [ 5.88840e+00,  8.12350e+00,  4.16140e+00],\n",
       "       [ 9.46000e-01,  1.51410e+00,  1.42890e+00],\n",
       "       [-1.47000e-02,  1.63910e+00, -1.21940e+00]])"
      ]
     },
     "execution_count": 190,
     "metadata": {},
     "output_type": "execute_result"
    }
   ],
   "source": [
    "beta"
   ]
  },
  {
   "cell_type": "code",
   "execution_count": 103,
   "id": "0329cedf",
   "metadata": {},
   "outputs": [],
   "source": [
    "T, p = Y.shape"
   ]
  },
  {
   "cell_type": "code",
   "execution_count": 106,
   "id": "e00073b2",
   "metadata": {},
   "outputs": [],
   "source": [
    "T, p = Y.shape\n",
    "mean_signal = np.mean(Y, axis=0)\n",
    "w = default_weights(T)\n",
    "# Compute C = X'*Y\n",
    "C = left_multiply_by_xt(Y, w)"
   ]
  },
  {
   "cell_type": "code",
   "execution_count": 113,
   "id": "bfd8a848",
   "metadata": {},
   "outputs": [
    {
     "data": {
      "text/plain": [
       "array([1.01015254, 0.72168784, 0.59549133, 0.52128604, 0.47140452,\n",
       "       0.43519414, 0.40756957, 0.38575837, 0.36810509, 0.35355339,\n",
       "       0.34139437, 0.33113309, 0.32241294, 0.31497039, 0.3086067 ,\n",
       "       0.30316953, 0.29854072, 0.29462783, 0.29135827, 0.28867513,\n",
       "       0.28653413, 0.28490144, 0.28375218, 0.28306926, 0.28284271,\n",
       "       0.28306926, 0.28375218, 0.28490144, 0.28653413, 0.28867513,\n",
       "       0.29135827, 0.29462783, 0.29854072, 0.30316953, 0.3086067 ,\n",
       "       0.31497039, 0.32241294, 0.33113309, 0.34139437, 0.35355339,\n",
       "       0.36810509, 0.38575837, 0.40756957, 0.43519414, 0.47140452,\n",
       "       0.52128604, 0.59549133, 0.72168784, 1.01015254])"
      ]
     },
     "execution_count": 113,
     "metadata": {},
     "output_type": "execute_result"
    }
   ],
   "source": [
    "w"
   ]
  },
  {
   "cell_type": "markdown",
   "id": "38251542",
   "metadata": {},
   "source": [
    "# Optimize current lambda with a warm restart from the previous lambda\n",
    " "
   ]
  },
  {
   "cell_type": "code",
   "execution_count": 110,
   "id": "be70a05b",
   "metadata": {},
   "outputs": [],
   "source": [
    "beta = np.zeros(p)\n",
    "active_set = []\n",
    "lam = 10\n",
    "XtY = C\n",
    "solved = False"
   ]
  },
  {
   "cell_type": "code",
   "execution_count": null,
   "id": "456b58a8",
   "metadata": {},
   "outputs": [],
   "source": []
  }
 ],
 "metadata": {
  "kernelspec": {
   "display_name": "Python 3 (ipykernel)",
   "language": "python",
   "name": "python3"
  },
  "language_info": {
   "codemirror_mode": {
    "name": "ipython",
    "version": 3
   },
   "file_extension": ".py",
   "mimetype": "text/x-python",
   "name": "python",
   "nbconvert_exporter": "python",
   "pygments_lexer": "ipython3",
   "version": "3.9.9"
  }
 },
 "nbformat": 4,
 "nbformat_minor": 5
}
