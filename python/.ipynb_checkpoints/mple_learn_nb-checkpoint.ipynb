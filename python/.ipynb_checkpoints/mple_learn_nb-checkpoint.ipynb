{
 "cells": [
  {
   "cell_type": "code",
   "execution_count": 1,
   "metadata": {},
   "outputs": [],
   "source": [
    "import numpy as np\n",
    "\n",
    "import rpy2.robjects as robjects\n",
    "from rpy2.robjects.packages import importr\n",
    "from rpy2.robjects import pandas2ri, IntVector, Formula\n",
    "pandas2ri.activate()\n",
    "\n",
    "%load_ext autoreload\n",
    "%autoreload 2\n",
    "from IPython.core.interactiveshell import InteractiveShell\n",
    "InteractiveShell.ast_node_interactivity = \"all\""
   ]
  },
  {
   "cell_type": "code",
   "execution_count": 2,
   "metadata": {},
   "outputs": [
    {
     "name": "stderr",
     "output_type": "stream",
     "text": [
      "/Users/hangjianli/.pyenv/versions/3.7.4/envs/leetcode/lib/python3.7/site-packages/rpy2/robjects/vectors.py:980: UserWarning: R object inheriting from \"POSIXct\" but without attribute \"tzone\".\n",
      "  warnings.warn('R object inheriting from \"POSIXct\" but without '\n",
      "/Users/hangjianli/.pyenv/versions/3.7.4/envs/leetcode/lib/python3.7/site-packages/rpy2/robjects/packages_utils.py:127: UserWarning: Conflict when converting R symbols in the package \"network\" to Python symbols: \n",
      "-as_tibble_network -> as_tibble.network, as.tibble.network\n",
      "  warn(msg)\n"
     ]
    }
   ],
   "source": [
    "base = importr('base')\n",
    "stats = importr('stats')\n",
    "ergm = importr('ergm')\n",
    "network = importr('network', on_conflict=\"warn\",\n",
    "                  robject_translations={\n",
    "                      'as.tibble.network': 'as_tibble_network',\n",
    "                      'as_tibble.network': 'as_tibble_network'\n",
    "                  }\n",
    "         )"
   ]
  },
  {
   "cell_type": "markdown",
   "metadata": {},
   "source": [
    "### Load the simulated $A^t$"
   ]
  },
  {
   "cell_type": "code",
   "execution_count": 3,
   "metadata": {},
   "outputs": [],
   "source": [
    "filename = '../data/sim101.rds'\n",
    "readRDS = robjects.r['readRDS']\n",
    "res = readRDS(filename)\n",
    "# res = np.array(df).astype(int)"
   ]
  },
  {
   "cell_type": "code",
   "execution_count": 4,
   "metadata": {},
   "outputs": [],
   "source": [
    "resdic = dict(res.items())"
   ]
  },
  {
   "cell_type": "code",
   "execution_count": 5,
   "metadata": {},
   "outputs": [
    {
     "data": {
      "text/plain": [
       "array([[-1.,  1.,  2., -3.],\n",
       "       [-2.,  2.,  1., -1.]])"
      ]
     },
     "execution_count": 5,
     "metadata": {},
     "output_type": "execute_result"
    }
   ],
   "source": [
    "resdic['coefs_pos']"
   ]
  },
  {
   "cell_type": "code",
   "execution_count": 6,
   "metadata": {},
   "outputs": [],
   "source": [
    "df = resdic['nw']\n",
    "df = np.array(df).astype(int)"
   ]
  },
  {
   "cell_type": "code",
   "execution_count": 7,
   "metadata": {},
   "outputs": [
    {
     "data": {
      "text/html": [
       "\n",
       "        <span>StrVector with 1 elements.</span>\n",
       "        <table>\n",
       "        <tbody>\n",
       "          <tr>\n",
       "          \n",
       "            <td>\n",
       "            'form: edge+mutual. diss: edge+mutual'\n",
       "            </td>\n",
       "          \n",
       "          </tr>\n",
       "        </tbody>\n",
       "        </table>\n",
       "        "
      ],
      "text/plain": [
       "<rpy2.robjects.vectors.StrVector object at 0x117bf5b40> [RTYPES.STRSXP]\n",
       "R classes: ('character',)\n",
       "['form: edge+mutual. diss: edge+mutual']"
      ]
     },
     "execution_count": 7,
     "metadata": {},
     "output_type": "execute_result"
    }
   ],
   "source": [
    "resdic.get('desc')"
   ]
  },
  {
   "cell_type": "code",
   "execution_count": 8,
   "metadata": {},
   "outputs": [
    {
     "data": {
      "text/plain": [
       "array([[0, 0, 1, 0, 0],\n",
       "       [1, 0, 1, 0, 1],\n",
       "       [0, 0, 0, 0, 0],\n",
       "       [0, 0, 1, 0, 1],\n",
       "       [1, 0, 0, 0, 0]])"
      ]
     },
     "execution_count": 8,
     "metadata": {},
     "output_type": "execute_result"
    }
   ],
   "source": [
    "df[0,:5,:5]"
   ]
  },
  {
   "cell_type": "code",
   "execution_count": 9,
   "metadata": {},
   "outputs": [
    {
     "data": {
      "text/plain": [
       "(40, 20, 20)"
      ]
     },
     "execution_count": 9,
     "metadata": {},
     "output_type": "execute_result"
    }
   ],
   "source": [
    "df.shape"
   ]
  },
  {
   "cell_type": "markdown",
   "metadata": {},
   "source": [
    "## Initialize the params"
   ]
  },
  {
   "cell_type": "code",
   "execution_count": 10,
   "metadata": {},
   "outputs": [],
   "source": [
    "num_nodes = df[0].shape[0]\n",
    "# n = 20\n",
    "T = len(df)\n",
    "# num_changepts = 5\n",
    "\n",
    "p_pos = 2 # edge + mutual\n",
    "p_neg = 2 # edge + mutual\n",
    "p = p_pos + p_neg\n",
    "\n",
    "np.random.seed(42)\n",
    "theta = np.random.normal(0, 0.5, size= (T , p)) \n",
    "z = np.copy(theta) \n",
    "u = np.zeros((T, p)) \n",
    "\n",
    "\n",
    "form_terms = ['edges', 'mutual']\n",
    "diss_terms = ['edges', 'mutual']"
   ]
  },
  {
   "cell_type": "code",
   "execution_count": 11,
   "metadata": {},
   "outputs": [],
   "source": [
    "init = {\n",
    "    'theta': np.copy(theta),\n",
    "    'z': z,\n",
    "    'u': u\n",
    "}"
   ]
  },
  {
   "cell_type": "code",
   "execution_count": 18,
   "metadata": {},
   "outputs": [],
   "source": [
    "from mple_learn import stergmGraph"
   ]
  },
  {
   "cell_type": "code",
   "execution_count": 19,
   "metadata": {},
   "outputs": [],
   "source": [
    "sim1 = stergmGraph(\n",
    "    X = df,\n",
    "    form_terms=form_terms,\n",
    "    diss_terms=diss_terms,\n",
    "    lam=[1],\n",
    "    max_steps=50,\n",
    "    newton_max_steps=100,\n",
    "    admm_alpha=1,\n",
    "    converge_tol=1e-5,\n",
    "#     gfl_maxit=300,\n",
    "#     gfl_tol=1e-5,\n",
    "    verbose=1\n",
    ")"
   ]
  },
  {
   "cell_type": "code",
   "execution_count": 20,
   "metadata": {
    "scrolled": true
   },
   "outputs": [
    {
     "name": "stdout",
     "output_type": "stream",
     "text": [
      "[INFO] ADMM step #0\n",
      "[INFO] Updating theta...\n",
      "[INFO] Newton converged in: 0.005234956741333008.\n",
      "[INFO] Updating z...\n",
      "[WARNING]  [[-3.71, -1.17, 3.52, 0.81]\n",
      "  [-0.81, -1.83, 2.33, -0.86]\n",
      "  [-1.16, -1.33, 2.37, -1.47]\n",
      "  [-0.97, -1.32, 1.86, -1.50]\n",
      "  [1.51, 1.64, 1.80, 0.68]\n",
      "  [1.70, 0.85, 1.36, 1.60]\n",
      "  [1.20, 1.53, 1.01, 1.87]\n",
      "  [1.29, 1.44, 1.05, 1.65]\n",
      "  [1.66, 1.14, 0.96, 1.77]\n",
      "  [1.81, 0.59, 1.27, 1.88]\n",
      "  [0.91, 0.63, 0.81, 2.01]\n",
      "  [1.00, 1.37, 1.20, 1.75]\n",
      "  [1.84, 0.79, 0.46, 2.62]\n",
      "  [0.90, 0.96, 1.08, 2.18]\n",
      "  [1.17, 1.43, -0.93, -0.48]\n",
      "  [1.87, 1.22, -0.88, -0.11]\n",
      "  [1.41, 1.48, -0.87, -0.99]\n",
      "  [1.98, 0.74, -1.18, 0.39]\n",
      "  [1.61, 2.08, -0.63, -1.50]\n",
      "  [1.01, 1.74, -0.68, -2.46]\n",
      "  [1.41, 1.50, -0.67, 0.03]\n",
      "  [1.57, 1.03, -0.64, -1.26]\n",
      "  [1.48, 1.26, -0.72, -1.17]\n",
      "  [1.47, 1.28, -0.54, -0.88]\n",
      "  [1.72, 0.95, -0.50, -1.17]\n",
      "  [0.68, 2.17, -0.82, -1.53]\n",
      "  [1.44, 1.53, -0.59, -1.17]\n",
      "  [1.78, 1.32, -0.56, -0.38]\n",
      "  [1.30, 1.43, -0.98, -0.67]\n",
      "  [-2.24, -1.14, 1.12, -0.94]\n",
      "  [-2.71, -1.38, 0.69, -0.69]\n",
      "  [-3.16, 0.03, 1.00, -0.90]\n",
      "  [-3.01, -1.34, 0.62, -0.29]\n",
      "  [-3.18, -0.49, 1.04, 0.03]\n",
      "  [-2.58, -0.73, 0.90, -0.62]\n",
      "  [-2.81, -0.95, 0.84, 0.51]\n",
      "  [-3.04, -0.87, 0.59, -1.05]\n",
      "  [-2.89, -0.60, 0.45, 0.17]\n",
      "  [-2.71, -0.72, 0.28, -0.36]\n",
      "  [-2.69, -0.34, 0.17, -0.17]] \n",
      "\n"
     ]
    },
    {
     "ename": "MatlabExecutionError",
     "evalue": "\n  File /Users/hangjianli/Documents/research/change_point/gfl/GFLseg/main/gflasso.m, line 68, in gflasso\n\n  File /Users/hangjianli/Documents/research/change_point/gfl/GFLseg/admm_gfl.m, line 10, in admm_gfl\nFunction is not defined for 'cell' inputs.\n",
     "output_type": "error",
     "traceback": [
      "\u001b[0;31m---------------------------------------------------------------------------\u001b[0m",
      "\u001b[0;31mMatlabExecutionError\u001b[0m                      Traceback (most recent call last)",
      "\u001b[0;32m<ipython-input-20-f92525471606>\u001b[0m in \u001b[0;36m<module>\u001b[0;34m\u001b[0m\n\u001b[0;32m----> 1\u001b[0;31m \u001b[0mtheta_res\u001b[0m\u001b[0;34m,\u001b[0m \u001b[0mz\u001b[0m\u001b[0;34m,\u001b[0m \u001b[0mu\u001b[0m\u001b[0;34m,\u001b[0m \u001b[0mc\u001b[0m \u001b[0;34m=\u001b[0m \u001b[0msim1\u001b[0m\u001b[0;34m.\u001b[0m\u001b[0mmple\u001b[0m\u001b[0;34m(\u001b[0m\u001b[0minitial_values\u001b[0m\u001b[0;34m=\u001b[0m\u001b[0minit\u001b[0m\u001b[0;34m,\u001b[0m \u001b[0msolver\u001b[0m\u001b[0;34m=\u001b[0m\u001b[0;34m'newton'\u001b[0m\u001b[0;34m,\u001b[0m \u001b[0mtau_inc\u001b[0m\u001b[0;34m=\u001b[0m\u001b[0;36m2\u001b[0m\u001b[0;34m,\u001b[0m \u001b[0mm\u001b[0m\u001b[0;34m=\u001b[0m\u001b[0;36m10\u001b[0m\u001b[0;34m)\u001b[0m\u001b[0;34m\u001b[0m\u001b[0;34m\u001b[0m\u001b[0m\n\u001b[0m",
      "\u001b[0;32m~/Documents/research/change_point/python/mple_learn.py\u001b[0m in \u001b[0;36mmple\u001b[0;34m(self, initial_values, solver, tau_inc, tau_dec, m)\u001b[0m\n\u001b[1;32m    119\u001b[0m             \u001b[0mprint\u001b[0m\u001b[0;34m(\u001b[0m\u001b[0;34m\"[WARNING] \"\u001b[0m\u001b[0;34m,\u001b[0m \u001b[0mmatrix_str\u001b[0m\u001b[0;34m(\u001b[0m\u001b[0mY\u001b[0m\u001b[0;34m)\u001b[0m\u001b[0;34m,\u001b[0m \u001b[0;34m\"\\n\"\u001b[0m\u001b[0;34m)\u001b[0m\u001b[0;34m\u001b[0m\u001b[0;34m\u001b[0m\u001b[0m\n\u001b[1;32m    120\u001b[0m             \u001b[0m_lam\u001b[0m \u001b[0;34m=\u001b[0m \u001b[0mmatlab\u001b[0m\u001b[0;34m.\u001b[0m\u001b[0mdouble\u001b[0m\u001b[0;34m(\u001b[0m\u001b[0;34m[\u001b[0m\u001b[0mlam\u001b[0m \u001b[0;34m*\u001b[0m \u001b[0mself\u001b[0m\u001b[0;34m.\u001b[0m\u001b[0madmm_alpha\u001b[0m \u001b[0;32mfor\u001b[0m \u001b[0mlam\u001b[0m \u001b[0;32min\u001b[0m \u001b[0mself\u001b[0m\u001b[0;34m.\u001b[0m\u001b[0mlamseq\u001b[0m\u001b[0;34m]\u001b[0m\u001b[0;34m)\u001b[0m\u001b[0;34m\u001b[0m\u001b[0;34m\u001b[0m\u001b[0m\n\u001b[0;32m--> 121\u001b[0;31m             \u001b[0mres\u001b[0m \u001b[0;34m=\u001b[0m \u001b[0meng\u001b[0m\u001b[0;34m.\u001b[0m\u001b[0madmm_gfl\u001b[0m\u001b[0;34m(\u001b[0m\u001b[0mY\u001b[0m\u001b[0;34m,\u001b[0m \u001b[0m_lam\u001b[0m\u001b[0;34m,\u001b[0m \u001b[0mself\u001b[0m\u001b[0;34m.\u001b[0m\u001b[0mgfl_tol\u001b[0m\u001b[0;34m,\u001b[0m \u001b[0mself\u001b[0m\u001b[0;34m.\u001b[0m\u001b[0mgfl_maxit\u001b[0m\u001b[0;34m)\u001b[0m\u001b[0;34m\u001b[0m\u001b[0;34m\u001b[0m\u001b[0m\n\u001b[0m\u001b[1;32m    122\u001b[0m             \u001b[0mz\u001b[0m \u001b[0;34m=\u001b[0m \u001b[0mnp\u001b[0m\u001b[0;34m.\u001b[0m\u001b[0masarray\u001b[0m\u001b[0;34m(\u001b[0m\u001b[0mres\u001b[0m\u001b[0;34m[\u001b[0m\u001b[0;34m'X'\u001b[0m\u001b[0;34m]\u001b[0m\u001b[0;34m)\u001b[0m\u001b[0;34m.\u001b[0m\u001b[0msqueeze\u001b[0m\u001b[0;34m(\u001b[0m\u001b[0;34m)\u001b[0m\u001b[0;34m.\u001b[0m\u001b[0mT\u001b[0m \u001b[0;31m# T x p\u001b[0m\u001b[0;34m\u001b[0m\u001b[0;34m\u001b[0m\u001b[0m\n\u001b[1;32m    123\u001b[0m             \u001b[0;32massert\u001b[0m \u001b[0mz\u001b[0m\u001b[0;34m.\u001b[0m\u001b[0mshape\u001b[0m \u001b[0;34m==\u001b[0m \u001b[0;34m(\u001b[0m\u001b[0mself\u001b[0m\u001b[0;34m.\u001b[0m\u001b[0mtslen\u001b[0m\u001b[0;34m,\u001b[0m \u001b[0mself\u001b[0m\u001b[0;34m.\u001b[0m\u001b[0mp\u001b[0m\u001b[0;34m)\u001b[0m\u001b[0;34m\u001b[0m\u001b[0;34m\u001b[0m\u001b[0m\n",
      "\u001b[0;32m~/.pyenv/versions/3.7.4/envs/leetcode/lib/python3.7/site-packages/matlab/engine/matlabengine.py\u001b[0m in \u001b[0;36m__call__\u001b[0;34m(self, *args, **kwargs)\u001b[0m\n\u001b[1;32m     69\u001b[0m         \u001b[0;32melse\u001b[0m\u001b[0;34m:\u001b[0m\u001b[0;34m\u001b[0m\u001b[0;34m\u001b[0m\u001b[0m\n\u001b[1;32m     70\u001b[0m             return FutureResult(self._engine(), future, nargs, _stdout,\n\u001b[0;32m---> 71\u001b[0;31m                                 _stderr, feval=True).result()\n\u001b[0m\u001b[1;32m     72\u001b[0m \u001b[0;34m\u001b[0m\u001b[0m\n\u001b[1;32m     73\u001b[0m     \u001b[0;32mdef\u001b[0m \u001b[0m__validate_engine\u001b[0m\u001b[0;34m(\u001b[0m\u001b[0mself\u001b[0m\u001b[0;34m)\u001b[0m\u001b[0;34m:\u001b[0m\u001b[0;34m\u001b[0m\u001b[0;34m\u001b[0m\u001b[0m\n",
      "\u001b[0;32m~/.pyenv/versions/3.7.4/envs/leetcode/lib/python3.7/site-packages/matlab/engine/futureresult.py\u001b[0m in \u001b[0;36mresult\u001b[0;34m(self, timeout)\u001b[0m\n\u001b[1;32m     65\u001b[0m                 \u001b[0;32mraise\u001b[0m \u001b[0mTypeError\u001b[0m\u001b[0;34m(\u001b[0m\u001b[0mpythonengine\u001b[0m\u001b[0;34m.\u001b[0m\u001b[0mgetMessage\u001b[0m\u001b[0;34m(\u001b[0m\u001b[0;34m'TimeoutCannotBeNegative'\u001b[0m\u001b[0;34m)\u001b[0m\u001b[0;34m)\u001b[0m\u001b[0;34m\u001b[0m\u001b[0;34m\u001b[0m\u001b[0m\n\u001b[1;32m     66\u001b[0m \u001b[0;34m\u001b[0m\u001b[0m\n\u001b[0;32m---> 67\u001b[0;31m         \u001b[0;32mreturn\u001b[0m \u001b[0mself\u001b[0m\u001b[0;34m.\u001b[0m\u001b[0m__future\u001b[0m\u001b[0;34m.\u001b[0m\u001b[0mresult\u001b[0m\u001b[0;34m(\u001b[0m\u001b[0mtimeout\u001b[0m\u001b[0;34m)\u001b[0m\u001b[0;34m\u001b[0m\u001b[0;34m\u001b[0m\u001b[0m\n\u001b[0m\u001b[1;32m     68\u001b[0m \u001b[0;34m\u001b[0m\u001b[0m\n\u001b[1;32m     69\u001b[0m     \u001b[0;32mdef\u001b[0m \u001b[0mcancel\u001b[0m\u001b[0;34m(\u001b[0m\u001b[0mself\u001b[0m\u001b[0;34m)\u001b[0m\u001b[0;34m:\u001b[0m\u001b[0;34m\u001b[0m\u001b[0;34m\u001b[0m\u001b[0m\n",
      "\u001b[0;32m~/.pyenv/versions/3.7.4/envs/leetcode/lib/python3.7/site-packages/matlab/engine/fevalfuture.py\u001b[0m in \u001b[0;36mresult\u001b[0;34m(self, timeout)\u001b[0m\n\u001b[1;32m     80\u001b[0m                 \u001b[0;32mraise\u001b[0m \u001b[0mTimeoutError\u001b[0m\u001b[0;34m(\u001b[0m\u001b[0mpythonengine\u001b[0m\u001b[0;34m.\u001b[0m\u001b[0mgetMessage\u001b[0m\u001b[0;34m(\u001b[0m\u001b[0;34m'MatlabFunctionTimeout'\u001b[0m\u001b[0;34m)\u001b[0m\u001b[0;34m)\u001b[0m\u001b[0;34m\u001b[0m\u001b[0;34m\u001b[0m\u001b[0m\n\u001b[1;32m     81\u001b[0m \u001b[0;34m\u001b[0m\u001b[0m\n\u001b[0;32m---> 82\u001b[0;31m             \u001b[0mself\u001b[0m\u001b[0;34m.\u001b[0m\u001b[0m_result\u001b[0m \u001b[0;34m=\u001b[0m \u001b[0mpythonengine\u001b[0m\u001b[0;34m.\u001b[0m\u001b[0mgetFEvalResult\u001b[0m\u001b[0;34m(\u001b[0m\u001b[0mself\u001b[0m\u001b[0;34m.\u001b[0m\u001b[0m_future\u001b[0m\u001b[0;34m,\u001b[0m\u001b[0mself\u001b[0m\u001b[0;34m.\u001b[0m\u001b[0m_nargout\u001b[0m\u001b[0;34m,\u001b[0m \u001b[0;32mNone\u001b[0m\u001b[0;34m,\u001b[0m \u001b[0mout\u001b[0m\u001b[0;34m=\u001b[0m\u001b[0mself\u001b[0m\u001b[0;34m.\u001b[0m\u001b[0m_out\u001b[0m\u001b[0;34m,\u001b[0m \u001b[0merr\u001b[0m\u001b[0;34m=\u001b[0m\u001b[0mself\u001b[0m\u001b[0;34m.\u001b[0m\u001b[0m_err\u001b[0m\u001b[0;34m)\u001b[0m\u001b[0;34m\u001b[0m\u001b[0;34m\u001b[0m\u001b[0m\n\u001b[0m\u001b[1;32m     83\u001b[0m             \u001b[0mself\u001b[0m\u001b[0;34m.\u001b[0m\u001b[0m_retrieved\u001b[0m \u001b[0;34m=\u001b[0m \u001b[0;32mTrue\u001b[0m\u001b[0;34m\u001b[0m\u001b[0;34m\u001b[0m\u001b[0m\n\u001b[1;32m     84\u001b[0m             \u001b[0;32mreturn\u001b[0m \u001b[0mself\u001b[0m\u001b[0;34m.\u001b[0m\u001b[0m_result\u001b[0m\u001b[0;34m\u001b[0m\u001b[0;34m\u001b[0m\u001b[0m\n",
      "\u001b[0;31mMatlabExecutionError\u001b[0m: \n  File /Users/hangjianli/Documents/research/change_point/gfl/GFLseg/main/gflasso.m, line 68, in gflasso\n\n  File /Users/hangjianli/Documents/research/change_point/gfl/GFLseg/admm_gfl.m, line 10, in admm_gfl\nFunction is not defined for 'cell' inputs.\n"
     ]
    }
   ],
   "source": [
    "theta_res, z, u, c = sim1.mple(initial_values=init, solver='newton', tau_inc=2, m=10)"
   ]
  },
  {
   "cell_type": "code",
   "execution_count": 14,
   "metadata": {},
   "outputs": [
    {
     "data": {
      "text/plain": [
       "(40, 4)"
      ]
     },
     "execution_count": 14,
     "metadata": {},
     "output_type": "execute_result"
    }
   ],
   "source": [
    "init['theta'].shape"
   ]
  },
  {
   "cell_type": "code",
   "execution_count": 18,
   "metadata": {
    "scrolled": true
   },
   "outputs": [
    {
     "data": {
      "text/plain": [
       "array([ 1,  4, 14, 29])"
      ]
     },
     "execution_count": 18,
     "metadata": {},
     "output_type": "execute_result"
    }
   ],
   "source": [
    "np.arange(1, 40)[np.linalg.norm(np.diff(init['theta'], axis=0), ord=2, axis=1) > 4]"
   ]
  },
  {
   "cell_type": "code",
   "execution_count": 21,
   "metadata": {
    "scrolled": false
   },
   "outputs": [],
   "source": [
    "# np.round(init['theta'],2)"
   ]
  },
  {
   "cell_type": "code",
   "execution_count": 86,
   "metadata": {},
   "outputs": [
    {
     "data": {
      "text/plain": [
       "array([[-1.,  1.,  2., -3.,  1.],\n",
       "       [-2.,  2.,  1., -1.,  3.]])"
      ]
     },
     "execution_count": 86,
     "metadata": {},
     "output_type": "execute_result"
    },
    {
     "data": {
      "text/plain": [
       "array([[ 2.07944154,  1.09861229, -0.69314718,  0.69314718,  2.30258509],\n",
       "       [-2.        ,  2.        , -1.        , -1.        ,  3.        ]])"
      ]
     },
     "execution_count": 86,
     "metadata": {},
     "output_type": "execute_result"
    }
   ],
   "source": [
    "resdic['coefs_pos']\n",
    "resdic['coefs_neg']"
   ]
  },
  {
   "cell_type": "code",
   "execution_count": 87,
   "metadata": {},
   "outputs": [
    {
     "data": {
      "text/plain": [
       "array([[-1.        , -2.        ,  2.07944154, -2.        ],\n",
       "       [ 1.        ,  2.        ,  1.09861229,  2.        ],\n",
       "       [ 2.        ,  1.        , -0.69314718, -1.        ],\n",
       "       [-3.        , -1.        ,  0.69314718, -1.        ],\n",
       "       [ 1.        ,  3.        ,  2.30258509,  3.        ]])"
      ]
     },
     "execution_count": 87,
     "metadata": {},
     "output_type": "execute_result"
    }
   ],
   "source": [
    "np.append(resdic['coefs_pos'], resdic['coefs_neg'], axis=0).T"
   ]
  },
  {
   "cell_type": "markdown",
   "metadata": {},
   "source": [
    "### Test Newton's method"
   ]
  },
  {
   "cell_type": "code",
   "execution_count": 9,
   "metadata": {},
   "outputs": [],
   "source": [
    "hess_f = sim1.theta_update_hess_f(theta)\n",
    "grad_f = sim1.theta_update_grad_f(theta, z, u)"
   ]
  },
  {
   "cell_type": "code",
   "execution_count": 39,
   "metadata": {},
   "outputs": [
    {
     "name": "stdout",
     "output_type": "stream",
     "text": [
      "[INFO]\tInner Step # 0. Current diff is 1.0000001\n",
      "[INFO] Loss = 33092.597021391324\n",
      "max of mu is 0.9996489878379565\n",
      "[INFO]\tInner Step # 1. Current diff is 9.617097546986221\n",
      "[INFO] Loss = 11305.777727932968\n",
      "max of mu is 0.9632169359769646\n",
      "[INFO]\tInner Step # 2. Current diff is 0.2595090612892723\n",
      "[INFO] Loss = 11861.002038092121\n",
      "max of mu is 0.7239483473007992\n",
      "[INFO]\tInner Step # 3. Current diff is 0.459800049101596\n",
      "[INFO] Loss = 11586.37767534945\n",
      "max of mu is 0.7829629395469192\n",
      "[INFO]\tInner Step # 4. Current diff is 0.025880145267771548\n",
      "[INFO] Loss = 11580.147453216698\n",
      "max of mu is 0.788276237493941\n",
      "[INFO]\tInner Step # 5. Current diff is 8.945294012274224e-05\n"
     ]
    }
   ],
   "source": [
    "theta_res = sim1.theta_update(init['theta'], z, u)"
   ]
  },
  {
   "cell_type": "code",
   "execution_count": 140,
   "metadata": {},
   "outputs": [
    {
     "data": {
      "text/plain": [
       "array([[-2.39290964,  0.60903965,  0.4352056 , -1.80261384],\n",
       "       [-1.8178356 , -1.55117841,  2.27144208, -0.46653777],\n",
       "       [-4.56820457, -3.919792  , -1.51145279,  2.52212431],\n",
       "       [-4.73860946, -3.93336226,  1.89421578, -1.48659024],\n",
       "       [-0.36294804,  0.09303787,  1.08081491,  1.98301898],\n",
       "       [ 1.39896977,  1.27439511,  0.42027876,  1.07446576],\n",
       "       [ 2.32866375,  2.83051687,  0.46795194,  2.46968428],\n",
       "       [ 3.03979677,  0.28846171,  2.88408828,  0.77524795],\n",
       "       [-1.99453383, -0.85852602,  2.52752802,  1.03164035],\n",
       "       [-3.93030243,  1.13600796,  3.81299235,  1.31769738],\n",
       "       [ 2.78059519,  0.91625975,  0.279195  , -0.67474795],\n",
       "       [ 4.18951476,  2.79440973, -4.28815829, -3.36843649],\n",
       "       [-0.167136  ,  1.79699814, -3.21230955,  0.16659357],\n",
       "       [ 3.28416616,  1.59893526, -4.20601004,  2.47416368],\n",
       "       [ 5.00130672, -0.09500702, -1.49619046, -2.11945833]])"
      ]
     },
     "execution_count": 140,
     "metadata": {},
     "output_type": "execute_result"
    }
   ],
   "source": [
    "theta_res"
   ]
  },
  {
   "cell_type": "markdown",
   "metadata": {},
   "source": [
    "### Test fused lasso"
   ]
  },
  {
   "cell_type": "code",
   "execution_count": 48,
   "metadata": {},
   "outputs": [],
   "source": [
    "import matlab.engine\n",
    "eng = matlab.engine.start_matlab()\n",
    "eng.addpath(eng.genpath('../gfl/'), nargout=0)"
   ]
  },
  {
   "cell_type": "markdown",
   "metadata": {},
   "source": [
    "### Compute BIC"
   ]
  },
  {
   "cell_type": "code",
   "execution_count": 12,
   "metadata": {},
   "outputs": [
    {
     "data": {
      "text/plain": [
       "(40, 20, 20)"
      ]
     },
     "execution_count": 12,
     "metadata": {},
     "output_type": "execute_result"
    }
   ],
   "source": [
    "df.shape"
   ]
  },
  {
   "cell_type": "code",
   "execution_count": 13,
   "metadata": {},
   "outputs": [],
   "source": [
    "yt0 = df[1,:,:]\n",
    "yt1 = df[2,:,:]"
   ]
  },
  {
   "cell_type": "code",
   "execution_count": 14,
   "metadata": {},
   "outputs": [],
   "source": [
    "ypos = np.logical_or(yt0, yt1).astype(int)\n",
    "yneg = np.logical_and(yt0, yt1).astype(int)\n",
    "nwpos = network.network(ypos)"
   ]
  },
  {
   "cell_type": "code",
   "execution_count": 15,
   "metadata": {},
   "outputs": [],
   "source": [
    "form_terms = ['edges', 'mutual']\n",
    "fml_form = Formula('nwf ~ ' + ' + '.join(form_terms))"
   ]
  },
  {
   "cell_type": "code",
   "execution_count": 20,
   "metadata": {},
   "outputs": [],
   "source": [
    "fml_form.environment['nwf'] = nwpos"
   ]
  },
  {
   "cell_type": "code",
   "execution_count": null,
   "metadata": {},
   "outputs": [],
   "source": [
    "lr_form = ergm.ergmMPLE(self.fml_form, output='array')"
   ]
  },
  {
   "cell_type": "code",
   "execution_count": null,
   "metadata": {},
   "outputs": [],
   "source": [
    "        ypos = np.logical_or(yt0, yt1).astype(int)\n",
    "        yneg = np.logical_and(yt0, yt1).astype(int)\n",
    "        nwpos = network.network(ypos)\n",
    "        nwneg = network.network(yneg)\n",
    "        self.fml_form.environment['nwf'] = nwpos\n",
    "        self.fml_diss.environment['nwd'] = nwneg\n",
    "        \n",
    "        # compute change statistic with correction\n",
    "        lr_form = ergm.ergmMPLE(self.fml_form, output='array')\n",
    "        lr_form_delta = np.array(lr_form.rx('predictor')).squeeze(axis=0)\n",
    "        lr_diss = ergm.ergmMPLE(self.fml_diss, output='array')\n",
    "        lr_diss_delta = np.array(lr_diss.rx('predictor')).squeeze(axis=0)"
   ]
  }
 ],
 "metadata": {
  "kernelspec": {
   "display_name": "Python 3",
   "language": "python",
   "name": "python3"
  },
  "language_info": {
   "codemirror_mode": {
    "name": "ipython",
    "version": 3
   },
   "file_extension": ".py",
   "mimetype": "text/x-python",
   "name": "python",
   "nbconvert_exporter": "python",
   "pygments_lexer": "ipython3",
   "version": "3.7.4"
  }
 },
 "nbformat": 4,
 "nbformat_minor": 5
}
