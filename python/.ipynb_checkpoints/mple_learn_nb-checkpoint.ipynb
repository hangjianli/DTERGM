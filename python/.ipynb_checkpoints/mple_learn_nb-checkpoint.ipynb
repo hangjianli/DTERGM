{
 "cells": [
  {
   "cell_type": "code",
   "execution_count": 1,
   "id": "informational-reservoir",
   "metadata": {},
   "outputs": [],
   "source": [
    "import numpy as np\n",
    "\n",
    "import rpy2.robjects as robjects\n",
    "from rpy2.robjects.packages import importr\n",
    "from rpy2.robjects import pandas2ri\n",
    "pandas2ri.activate()\n",
    "\n",
    "%load_ext autoreload\n",
    "%autoreload 2"
   ]
  },
  {
   "cell_type": "code",
   "execution_count": 2,
   "id": "seventh-colombia",
   "metadata": {},
   "outputs": [],
   "source": [
    "from rpy2.robjects import IntVector, Formula"
   ]
  },
  {
   "cell_type": "code",
   "execution_count": 3,
   "id": "hispanic-spank",
   "metadata": {},
   "outputs": [],
   "source": [
    "# utils = importr('utils')\n",
    "# utils.install_packages('ergm')"
   ]
  },
  {
   "cell_type": "code",
   "execution_count": 4,
   "id": "advisory-paste",
   "metadata": {},
   "outputs": [
    {
     "name": "stderr",
     "output_type": "stream",
     "text": [
      "/Users/hangjianli/.pyenv/versions/3.9.2/envs/stergm/lib/python3.9/site-packages/rpy2/robjects/vectors.py:980: UserWarning: R object inheriting from \"POSIXct\" but without attribute \"tzone\".\n",
      "  warnings.warn('R object inheriting from \"POSIXct\" but without '\n",
      "/Users/hangjianli/.pyenv/versions/3.9.2/envs/stergm/lib/python3.9/site-packages/rpy2/robjects/packages_utils.py:127: UserWarning: Conflict when converting R symbols in the package \"network\" to Python symbols: \n",
      "-as_tibble_network -> as_tibble.network, as.tibble.network\n",
      "  warn(msg)\n"
     ]
    }
   ],
   "source": [
    "base = importr('base')\n",
    "stats = importr('stats')\n",
    "ergm = importr('ergm')\n",
    "network = importr('network', on_conflict=\"warn\",\n",
    "                  robject_translations={\n",
    "                      'as.tibble.network': 'as_tibble_network',\n",
    "                      'as_tibble.network': 'as_tibble_network'\n",
    "                  }\n",
    "         )"
   ]
  },
  {
   "cell_type": "markdown",
   "id": "rational-walter",
   "metadata": {},
   "source": [
    "### Load the simulated $A^t$"
   ]
  },
  {
   "cell_type": "code",
   "execution_count": 5,
   "id": "distinct-homework",
   "metadata": {},
   "outputs": [],
   "source": [
    "filename = '../data/edge_mutual__mutual.rds'\n",
    "readRDS = robjects.r['readRDS']\n",
    "df = readRDS(filename)\n",
    "df = np.array(df).astype(int)"
   ]
  },
  {
   "cell_type": "markdown",
   "id": "useful-polish",
   "metadata": {},
   "source": [
    "## quick tests"
   ]
  },
  {
   "cell_type": "code",
   "execution_count": 6,
   "id": "continental-separation",
   "metadata": {},
   "outputs": [],
   "source": [
    "yt0=df[0]\n",
    "yt1=df[1]"
   ]
  },
  {
   "cell_type": "code",
   "execution_count": 7,
   "id": "generic-butler",
   "metadata": {},
   "outputs": [],
   "source": [
    "p_pos = 2 # edge + mutual\n",
    "p_neg = 1 # edge\n",
    "p = p_pos + p_neg"
   ]
  },
  {
   "cell_type": "code",
   "execution_count": 8,
   "id": "clinical-raise",
   "metadata": {},
   "outputs": [],
   "source": [
    "num_nodes = 100\n",
    "n = 100\n",
    "num_timepts = 50\n",
    "num_changepts = 5"
   ]
  },
  {
   "cell_type": "code",
   "execution_count": 9,
   "id": "following-confidentiality",
   "metadata": {},
   "outputs": [],
   "source": [
    "form_terms = ['edges', 'mutual']\n",
    "diss_terms = ['edges']\n"
   ]
  },
  {
   "cell_type": "code",
   "execution_count": 33,
   "id": "current-bankruptcy",
   "metadata": {},
   "outputs": [],
   "source": [
    "from mple_learn import stergmGraph\n",
    "sim1 = stergmGraph(\n",
    "    X = df,\n",
    "    form_terms=form_terms,\n",
    "    diss_terms=diss_terms)"
   ]
  },
  {
   "cell_type": "code",
   "execution_count": 35,
   "id": "owned-surgery",
   "metadata": {},
   "outputs": [],
   "source": [
    "# sim1.gstat(yt0=yt0, yt1=yt1)"
   ]
  },
  {
   "cell_type": "code",
   "execution_count": 46,
   "id": "miniature-stocks",
   "metadata": {
    "scrolled": true
   },
   "outputs": [],
   "source": [
    "lr_form, lr_diss = sim1.gstat_delta(yt0=yt0, yt1=yt1)"
   ]
  },
  {
   "cell_type": "code",
   "execution_count": 14,
   "id": "internal-breakfast",
   "metadata": {},
   "outputs": [],
   "source": [
    "fml_form = Formula('nwf ~ ' + ' + '.join(form_terms))"
   ]
  },
  {
   "cell_type": "code",
   "execution_count": 16,
   "id": "choice-anime",
   "metadata": {},
   "outputs": [
    {
     "name": "stdout",
     "output_type": "stream",
     "text": [
      "nwf ~ edges + mutual\n",
      "\n"
     ]
    }
   ],
   "source": [
    "print(fml_form)"
   ]
  },
  {
   "cell_type": "code",
   "execution_count": 18,
   "id": "handy-supplement",
   "metadata": {},
   "outputs": [],
   "source": [
    "fml_form.environment['nwf'] = nwpos"
   ]
  },
  {
   "cell_type": "code",
   "execution_count": 19,
   "id": "inappropriate-paste",
   "metadata": {},
   "outputs": [
    {
     "name": "stdout",
     "output_type": "stream",
     "text": [
      "nwf ~ edges + mutual\n",
      "\n"
     ]
    }
   ],
   "source": [
    "print(fml_form)"
   ]
  },
  {
   "cell_type": "code",
   "execution_count": 25,
   "id": "familiar-alert",
   "metadata": {},
   "outputs": [],
   "source": [
    "mplesetup = ergm.ergmMPLE(fml_form, output='array')"
   ]
  },
  {
   "cell_type": "code",
   "execution_count": 29,
   "id": "regional-burning",
   "metadata": {
    "scrolled": false
   },
   "outputs": [
    {
     "data": {
      "text/plain": [
       "nan"
      ]
     },
     "execution_count": 29,
     "metadata": {},
     "output_type": "execute_result"
    }
   ],
   "source": [
    "mplesetup[1][:,:,0][0][0]"
   ]
  },
  {
   "cell_type": "code",
   "execution_count": 136,
   "id": "passing-investigator",
   "metadata": {
    "scrolled": true
   },
   "outputs": [
    {
     "data": {
      "text/plain": [
       "380.0"
      ]
     },
     "execution_count": 136,
     "metadata": {},
     "output_type": "execute_result"
    }
   ],
   "source": [
    "mplesetup[mplesetup.names.index('weights')].sum()"
   ]
  },
  {
   "cell_type": "code",
   "execution_count": 42,
   "id": "brave-overall",
   "metadata": {},
   "outputs": [],
   "source": [
    "# lr_form = dict(zip(lr_form.names, list(lr_form)))"
   ]
  },
  {
   "cell_type": "code",
   "execution_count": 56,
   "id": "promotional-classic",
   "metadata": {},
   "outputs": [],
   "source": [
    "lr_form[1][:,:,0][yt0 == 1] = 0"
   ]
  },
  {
   "cell_type": "code",
   "execution_count": 59,
   "id": "material-fossil",
   "metadata": {},
   "outputs": [],
   "source": [
    "lr_form[1][:,:,0][yt0 == 1] = 100"
   ]
  },
  {
   "cell_type": "code",
   "execution_count": 72,
   "id": "vital-enlargement",
   "metadata": {},
   "outputs": [],
   "source": [
    "delta_mat_form = np.array(lr_form.rx('predictor')).squeeze()\n",
    "delta_mat_form[:,:,0][yt0==1] = 0\n",
    "delta_mat_form[:,:,0]"
   ]
  },
  {
   "cell_type": "code",
   "execution_count": null,
   "id": "german-passenger",
   "metadata": {},
   "outputs": [],
   "source": []
  }
 ],
 "metadata": {
  "kernelspec": {
   "display_name": "Python 3",
   "language": "python",
   "name": "python3"
  },
  "language_info": {
   "codemirror_mode": {
    "name": "ipython",
    "version": 3
   },
   "file_extension": ".py",
   "mimetype": "text/x-python",
   "name": "python",
   "nbconvert_exporter": "python",
   "pygments_lexer": "ipython3",
   "version": "3.9.2"
  }
 },
 "nbformat": 4,
 "nbformat_minor": 5
}
