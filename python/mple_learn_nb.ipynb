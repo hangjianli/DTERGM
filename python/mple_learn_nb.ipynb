{
 "cells": [
  {
   "cell_type": "code",
   "execution_count": 1,
   "id": "informational-reservoir",
   "metadata": {},
   "outputs": [],
   "source": [
    "import numpy as np\n",
    "\n",
    "import rpy2.robjects as robjects\n",
    "from rpy2.robjects.packages import importr\n",
    "from rpy2.robjects import pandas2ri\n",
    "pandas2ri.activate()\n",
    "\n",
    "%load_ext autoreload\n",
    "%autoreload 2"
   ]
  },
  {
   "cell_type": "code",
   "execution_count": 2,
   "id": "seventh-colombia",
   "metadata": {},
   "outputs": [],
   "source": [
    "from rpy2.robjects import IntVector, Formula"
   ]
  },
  {
   "cell_type": "code",
   "execution_count": 3,
   "id": "hispanic-spank",
   "metadata": {},
   "outputs": [],
   "source": [
    "# utils = importr('utils')\n",
    "# utils.install_packages('ergm')"
   ]
  },
  {
   "cell_type": "code",
   "execution_count": 4,
   "id": "advisory-paste",
   "metadata": {},
   "outputs": [
    {
     "name": "stderr",
     "output_type": "stream",
     "text": [
      "/Users/hangjianli/.pyenv/versions/3.9.2/envs/stergm/lib/python3.9/site-packages/rpy2/robjects/vectors.py:980: UserWarning: R object inheriting from \"POSIXct\" but without attribute \"tzone\".\n",
      "  warnings.warn('R object inheriting from \"POSIXct\" but without '\n",
      "/Users/hangjianli/.pyenv/versions/3.9.2/envs/stergm/lib/python3.9/site-packages/rpy2/robjects/packages_utils.py:127: UserWarning: Conflict when converting R symbols in the package \"network\" to Python symbols: \n",
      "-as_tibble_network -> as_tibble.network, as.tibble.network\n",
      "  warn(msg)\n"
     ]
    }
   ],
   "source": [
    "base = importr('base')\n",
    "stats = importr('stats')\n",
    "ergm = importr('ergm')\n",
    "network = importr('network', on_conflict=\"warn\",\n",
    "                  robject_translations={\n",
    "                      'as.tibble.network': 'as_tibble_network',\n",
    "                      'as_tibble.network': 'as_tibble_network'\n",
    "                  }\n",
    "         )"
   ]
  },
  {
   "cell_type": "markdown",
   "id": "rational-walter",
   "metadata": {},
   "source": [
    "### Load the simulated $A^t$"
   ]
  },
  {
   "cell_type": "code",
   "execution_count": 5,
   "id": "distinct-homework",
   "metadata": {},
   "outputs": [],
   "source": [
    "filename = '../data/edge_mutual__mutual.rds'\n",
    "readRDS = robjects.r['readRDS']\n",
    "df = readRDS(filename)\n",
    "df = np.array(df).astype(int)"
   ]
  },
  {
   "cell_type": "markdown",
   "id": "narrative-bearing",
   "metadata": {},
   "source": [
    "## quick tests"
   ]
  },
  {
   "cell_type": "code",
   "execution_count": 6,
   "id": "continental-separation",
   "metadata": {},
   "outputs": [],
   "source": [
    "yt0=df[0]\n",
    "yt1=df[1]"
   ]
  },
  {
   "cell_type": "code",
   "execution_count": 7,
   "id": "generic-butler",
   "metadata": {},
   "outputs": [],
   "source": [
    "p_pos = 2 # edge + mutual\n",
    "p_neg = 1 # edge\n",
    "p = p_pos + p_neg"
   ]
  },
  {
   "cell_type": "code",
   "execution_count": 257,
   "id": "clinical-raise",
   "metadata": {},
   "outputs": [],
   "source": [
    "num_nodes = 100\n",
    "n = 20\n",
    "T = 50\n",
    "num_changepts = 5\n",
    "\n",
    "theta = np.arange(T * p).reshape(T,-1)"
   ]
  },
  {
   "cell_type": "code",
   "execution_count": 9,
   "id": "following-confidentiality",
   "metadata": {},
   "outputs": [],
   "source": [
    "form_terms = ['edges', 'mutual']\n",
    "diss_terms = ['edges']\n"
   ]
  },
  {
   "cell_type": "code",
   "execution_count": 259,
   "id": "current-bankruptcy",
   "metadata": {},
   "outputs": [],
   "source": [
    "from mple_learn import stergmGraph\n",
    "sim1 = stergmGraph(\n",
    "    X = df,\n",
    "    form_terms=form_terms,\n",
    "    diss_terms=diss_terms)"
   ]
  },
  {
   "cell_type": "code",
   "execution_count": 218,
   "id": "owned-surgery",
   "metadata": {},
   "outputs": [],
   "source": [
    "# sim1.gstat(yt0=yt0, yt1=yt1)"
   ]
  },
  {
   "cell_type": "code",
   "execution_count": 219,
   "id": "miniature-stocks",
   "metadata": {
    "scrolled": true
   },
   "outputs": [],
   "source": [
    "lr_form, lr_diss = sim1.g_delta(yt0=yt0, yt1=yt1)\n",
    "assert lr_form.shape == (n, n, len(form_terms))\n",
    "assert lr_diss.shape == (n, n, len(diss_terms))"
   ]
  },
  {
   "cell_type": "code",
   "execution_count": 261,
   "id": "perceived-direction",
   "metadata": {},
   "outputs": [],
   "source": [
    "hess = sim1.theta_update_hess(theta, df)"
   ]
  },
  {
   "cell_type": "code",
   "execution_count": 262,
   "id": "incoming-creator",
   "metadata": {},
   "outputs": [
    {
     "data": {
      "text/plain": [
       "(150, 150)"
      ]
     },
     "execution_count": 262,
     "metadata": {},
     "output_type": "execute_result"
    }
   ],
   "source": [
    "hess.shape"
   ]
  },
  {
   "cell_type": "code",
   "execution_count": 222,
   "id": "reasonable-visiting",
   "metadata": {},
   "outputs": [],
   "source": [
    "a = np.arange(5)[::-1]"
   ]
  },
  {
   "cell_type": "code",
   "execution_count": 256,
   "id": "healthy-single",
   "metadata": {},
   "outputs": [
    {
     "data": {
      "text/plain": [
       "array([[  0,   1,   2],\n",
       "       [  3,   4,   5],\n",
       "       [  6,   7,   8],\n",
       "       [  9,  10,  11],\n",
       "       [ 12,  13,  14],\n",
       "       [ 15,  16,  17],\n",
       "       [ 18,  19,  20],\n",
       "       [ 21,  22,  23],\n",
       "       [ 24,  25,  26],\n",
       "       [ 27,  28,  29],\n",
       "       [ 30,  31,  32],\n",
       "       [ 33,  34,  35],\n",
       "       [ 36,  37,  38],\n",
       "       [ 39,  40,  41],\n",
       "       [ 42,  43,  44],\n",
       "       [ 45,  46,  47],\n",
       "       [ 48,  49,  50],\n",
       "       [ 51,  52,  53],\n",
       "       [ 54,  55,  56],\n",
       "       [ 57,  58,  59],\n",
       "       [ 60,  61,  62],\n",
       "       [ 63,  64,  65],\n",
       "       [ 66,  67,  68],\n",
       "       [ 69,  70,  71],\n",
       "       [ 72,  73,  74],\n",
       "       [ 75,  76,  77],\n",
       "       [ 78,  79,  80],\n",
       "       [ 81,  82,  83],\n",
       "       [ 84,  85,  86],\n",
       "       [ 87,  88,  89],\n",
       "       [ 90,  91,  92],\n",
       "       [ 93,  94,  95],\n",
       "       [ 96,  97,  98],\n",
       "       [ 99, 100, 101],\n",
       "       [102, 103, 104],\n",
       "       [105, 106, 107],\n",
       "       [108, 109, 110],\n",
       "       [111, 112, 113],\n",
       "       [114, 115, 116],\n",
       "       [117, 118, 119],\n",
       "       [120, 121, 122],\n",
       "       [123, 124, 125],\n",
       "       [126, 127, 128],\n",
       "       [129, 130, 131],\n",
       "       [132, 133, 134],\n",
       "       [135, 136, 137],\n",
       "       [138, 139, 140],\n",
       "       [141, 142, 143],\n",
       "       [144, 145, 146],\n",
       "       [147, 148, 149]])"
      ]
     },
     "execution_count": 256,
     "metadata": {},
     "output_type": "execute_result"
    }
   ],
   "source": []
  },
  {
   "cell_type": "code",
   "execution_count": 227,
   "id": "saving-neighborhood",
   "metadata": {},
   "outputs": [],
   "source": [
    "a = df.reshape(50, -1)"
   ]
  },
  {
   "cell_type": "code",
   "execution_count": 240,
   "id": "coupled-scientist",
   "metadata": {},
   "outputs": [],
   "source": [
    "a = np.arange(24).reshape(4,3,2)\n",
    "b = np.arange(8).reshape(4,2)"
   ]
  },
  {
   "cell_type": "code",
   "execution_count": 235,
   "id": "positive-laser",
   "metadata": {},
   "outputs": [
    {
     "data": {
      "text/plain": [
       "array([[[0, 0],\n",
       "        [0, 0]],\n",
       "\n",
       "       [[0, 0],\n",
       "        [0, 0]],\n",
       "\n",
       "       [[0, 0],\n",
       "        [0, 0]],\n",
       "\n",
       "       [[0, 0],\n",
       "        [0, 0]],\n",
       "\n",
       "       [[0, 0],\n",
       "        [0, 0]]])"
      ]
     },
     "execution_count": 235,
     "metadata": {},
     "output_type": "execute_result"
    }
   ],
   "source": [
    "(a - b).squeeze()"
   ]
  },
  {
   "cell_type": "code",
   "execution_count": 243,
   "id": "young-boating",
   "metadata": {},
   "outputs": [
    {
     "data": {
      "text/plain": [
       "array([[[ 0,  1],\n",
       "        [ 2,  3],\n",
       "        [ 4,  5]],\n",
       "\n",
       "       [[ 6,  7],\n",
       "        [ 8,  9],\n",
       "        [10, 11]],\n",
       "\n",
       "       [[12, 13],\n",
       "        [14, 15],\n",
       "        [16, 17]],\n",
       "\n",
       "       [[18, 19],\n",
       "        [20, 21],\n",
       "        [22, 23]]])"
      ]
     },
     "execution_count": 243,
     "metadata": {},
     "output_type": "execute_result"
    }
   ],
   "source": [
    "a"
   ]
  },
  {
   "cell_type": "code",
   "execution_count": 244,
   "id": "broadband-underground",
   "metadata": {},
   "outputs": [
    {
     "data": {
      "text/plain": [
       "array([[0, 1],\n",
       "       [2, 3],\n",
       "       [4, 5],\n",
       "       [6, 7]])"
      ]
     },
     "execution_count": 244,
     "metadata": {},
     "output_type": "execute_result"
    }
   ],
   "source": [
    "b"
   ]
  },
  {
   "cell_type": "code",
   "execution_count": 248,
   "id": "forty-bradley",
   "metadata": {},
   "outputs": [],
   "source": [
    " Z = np.sum(a * b[:,np.newaxis, :], axis=2)"
   ]
  },
  {
   "cell_type": "code",
   "execution_count": 249,
   "id": "protective-classic",
   "metadata": {},
   "outputs": [
    {
     "data": {
      "text/plain": [
       "(4, 3)"
      ]
     },
     "execution_count": 249,
     "metadata": {},
     "output_type": "execute_result"
    }
   ],
   "source": [
    "Z.shape"
   ]
  },
  {
   "cell_type": "code",
   "execution_count": 250,
   "id": "convertible-cameroon",
   "metadata": {},
   "outputs": [
    {
     "data": {
      "text/plain": [
       "array([[  1,   3,   5],\n",
       "       [ 33,  43,  53],\n",
       "       [113, 131, 149],\n",
       "       [241, 267, 293]])"
      ]
     },
     "execution_count": 250,
     "metadata": {},
     "output_type": "execute_result"
    }
   ],
   "source": [
    "Z"
   ]
  },
  {
   "cell_type": "code",
   "execution_count": null,
   "id": "confirmed-retention",
   "metadata": {},
   "outputs": [],
   "source": []
  }
 ],
 "metadata": {
  "kernelspec": {
   "display_name": "Python 3",
   "language": "python",
   "name": "python3"
  },
  "language_info": {
   "codemirror_mode": {
    "name": "ipython",
    "version": 3
   },
   "file_extension": ".py",
   "mimetype": "text/x-python",
   "name": "python",
   "nbconvert_exporter": "python",
   "pygments_lexer": "ipython3",
   "version": "3.9.2"
  }
 },
 "nbformat": 4,
 "nbformat_minor": 5
}
