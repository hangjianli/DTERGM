{
 "cells": [
  {
   "cell_type": "code",
   "execution_count": 1,
   "id": "curious-highway",
   "metadata": {},
   "outputs": [],
   "source": [
    "import numpy as np\n",
    "\n",
    "import rpy2.robjects as robjects\n",
    "from rpy2.robjects.packages import importr\n",
    "from rpy2.robjects import pandas2ri, IntVector, Formula\n",
    "pandas2ri.activate()\n",
    "\n",
    "%load_ext autoreload\n",
    "%autoreload 2\n",
    "from IPython.core.interactiveshell import InteractiveShell\n",
    "InteractiveShell.ast_node_interactivity = \"all\""
   ]
  },
  {
   "cell_type": "code",
   "execution_count": 2,
   "id": "effective-performer",
   "metadata": {},
   "outputs": [
    {
     "name": "stderr",
     "output_type": "stream",
     "text": [
      "/Users/hangjianli/.pyenv/versions/3.9.2/envs/stergm/lib/python3.9/site-packages/rpy2/robjects/vectors.py:980: UserWarning: R object inheriting from \"POSIXct\" but without attribute \"tzone\".\n",
      "  warnings.warn('R object inheriting from \"POSIXct\" but without '\n",
      "/Users/hangjianli/.pyenv/versions/3.9.2/envs/stergm/lib/python3.9/site-packages/rpy2/robjects/packages_utils.py:127: UserWarning: Conflict when converting R symbols in the package \"network\" to Python symbols: \n",
      "-as_tibble_network -> as_tibble.network, as.tibble.network\n",
      "  warn(msg)\n"
     ]
    }
   ],
   "source": [
    "base = importr('base')\n",
    "stats = importr('stats')\n",
    "ergm = importr('ergm')\n",
    "network = importr('network', on_conflict=\"warn\",\n",
    "                  robject_translations={\n",
    "                      'as.tibble.network': 'as_tibble_network',\n",
    "                      'as_tibble.network': 'as_tibble_network'\n",
    "                  }\n",
    "         )"
   ]
  },
  {
   "cell_type": "markdown",
   "id": "unexpected-occupation",
   "metadata": {},
   "source": [
    "### Load the simulated $A^t$"
   ]
  },
  {
   "cell_type": "code",
   "execution_count": 3,
   "id": "charged-sunday",
   "metadata": {},
   "outputs": [],
   "source": [
    "filename = '../data/res3.rds'\n",
    "readRDS = robjects.r['readRDS']\n",
    "res = readRDS(filename)\n",
    "# res = np.array(df).astype(int)"
   ]
  },
  {
   "cell_type": "code",
   "execution_count": 66,
   "id": "ancient-township",
   "metadata": {},
   "outputs": [],
   "source": [
    "resdic = dict(res.items())"
   ]
  },
  {
   "cell_type": "code",
   "execution_count": 67,
   "id": "eleven-benchmark",
   "metadata": {},
   "outputs": [],
   "source": [
    "df = resdic['nw']\n",
    "df = np.array(df).astype(int)"
   ]
  },
  {
   "cell_type": "code",
   "execution_count": 68,
   "id": "fuzzy-topic",
   "metadata": {},
   "outputs": [
    {
     "data": {
      "text/html": [
       "\n",
       "        <span>StrVector with 1 elements.</span>\n",
       "        <table>\n",
       "        <tbody>\n",
       "          <tr>\n",
       "          \n",
       "            <td>\n",
       "            'form: edge+mutual. diss: edge+mutual'\n",
       "            </td>\n",
       "          \n",
       "          </tr>\n",
       "        </tbody>\n",
       "        </table>\n",
       "        "
      ],
      "text/plain": [
       "<rpy2.robjects.vectors.StrVector object at 0x121c5f640> [RTYPES.STRSXP]\n",
       "R classes: ('character',)\n",
       "['form: edge+mutual. diss: edge+mutual']"
      ]
     },
     "execution_count": 68,
     "metadata": {},
     "output_type": "execute_result"
    }
   ],
   "source": [
    "resdic.get('desc')"
   ]
  },
  {
   "cell_type": "code",
   "execution_count": 69,
   "id": "plain-subsection",
   "metadata": {},
   "outputs": [
    {
     "data": {
      "text/plain": [
       "(100, 50, 50)"
      ]
     },
     "execution_count": 69,
     "metadata": {},
     "output_type": "execute_result"
    }
   ],
   "source": [
    "df.shape"
   ]
  },
  {
   "cell_type": "markdown",
   "id": "falling-joint",
   "metadata": {},
   "source": [
    "## Initialize the params"
   ]
  },
  {
   "cell_type": "code",
   "execution_count": 74,
   "id": "electoral-honduras",
   "metadata": {},
   "outputs": [
    {
     "name": "stderr",
     "output_type": "stream",
     "text": [
      "/Users/hangjianli/.pyenv/versions/3.7.4/envs/leetcode/lib/python3.7/site-packages/rpy2/robjects/packages_utils.py:127: UserWarning: Conflict when converting R symbols in the package \"network\" to Python symbols: \n",
      "-as_tibble_network -> as_tibble.network, as.tibble.network\n",
      "  warn(msg)\n",
      "/Users/hangjianli/.pyenv/versions/3.7.4/envs/leetcode/lib/python3.7/site-packages/rpy2/robjects/vectors.py:980: UserWarning: R object inheriting from \"POSIXct\" but without attribute \"tzone\".\n",
      "  warnings.warn('R object inheriting from \"POSIXct\" but without '\n"
     ]
    }
   ],
   "source": [
    "num_nodes = df[0].shape[0]\n",
    "# n = 20\n",
    "T = len(df)\n",
    "# num_changepts = 5\n",
    "\n",
    "p_pos = 2 # edge + mutual\n",
    "p_neg = 2 # edge + mutual\n",
    "p = p_pos + p_neg\n",
    "\n",
    "np.random.seed(42)\n",
    "theta = np.random.normal(0, 0.5, size= (T , p)) \n",
    "z = np.copy(theta) \n",
    "u = np.zeros((T, p)) \n",
    "\n",
    "\n",
    "form_terms = ['edges', 'mutual']\n",
    "diss_terms = ['edges', 'mutual']"
   ]
  },
  {
   "cell_type": "code",
   "execution_count": 75,
   "id": "bronze-cutting",
   "metadata": {},
   "outputs": [],
   "source": [
    "init = {\n",
    "    'theta': np.copy(theta),\n",
    "    'z': z,\n",
    "    'u': u\n",
    "}"
   ]
  },
  {
   "cell_type": "code",
   "execution_count": 79,
   "id": "square-blink",
   "metadata": {},
   "outputs": [
    {
     "data": {
      "text/plain": [
       "array([[-8.67099841, -2.29890329,  8.32236463, -1.57590162],\n",
       "       [-0.95769752, -1.72284883,  2.177566  , -2.53238916],\n",
       "       [-0.97408992, -2.01080285,  2.23920503, -1.9825493 ],\n",
       "       [-1.1838951 , -1.70182544,  1.94354064, -1.8870211 ],\n",
       "       [-0.99753522, -1.99517233,  1.99909886, -1.74335006],\n",
       "       [-1.26348028, -1.65566019,  2.18024622, -1.74381773],\n",
       "       [-0.8906448 , -2.11145191,  2.05345874, -2.06875144],\n",
       "       [-1.24798147, -1.80445829,  2.04717475, -1.95975169],\n",
       "       [-1.06791539, -1.97544271,  2.16205659, -2.30328387],\n",
       "       [-1.05806925, -1.97710134,  2.19784611, -2.32194455],\n",
       "       [-1.30052871, -1.65422795,  2.02213895, -1.98361622],\n",
       "       [-1.0707358 , -2.07573666,  2.11451147, -2.46145596],\n",
       "       [-0.94466022, -2.21722144,  2.10434706, -2.41735501],\n",
       "       [-0.8542176 , -2.14683782,  2.04495897, -1.81694517],\n",
       "       [-1.34477662, -1.6443523 ,  2.12575954, -2.21591895],\n",
       "       [-1.03677441, -2.18419003,  2.26285694, -1.65519206],\n",
       "       [-1.03086522, -1.76422567,  1.95491582, -1.88204201],\n",
       "       [-1.02722895, -2.11045755,  1.90847992, -2.33291509],\n",
       "       [-0.74276966, -2.08997398,  2.12851572, -2.74636483],\n",
       "       [-1.05291758, -1.94686905,  1.91307067, -1.81526391],\n",
       "       [ 1.58369707,  1.35681485,  1.08646847,  2.79249084],\n",
       "       [ 1.79994284,  0.88153576,  1.01020871,  2.01995732],\n",
       "       [ 2.15948669,  1.15556609,  1.14747844,  1.86178668],\n",
       "       [ 2.11729583,  1.17750914,  1.41263261,  1.82989305],\n",
       "       [ 1.787356  ,  1.08740216,  0.70673003,  2.49522617],\n",
       "       [-0.77019584,  4.38036522,  1.31328008,  1.91858329],\n",
       "       [-0.50868544,  3.74084054,  1.02284962,  2.15317047],\n",
       "       [ 0.31989168,  3.50436988,  1.13573475,  1.81365901],\n",
       "       [ 0.50846515,  2.79272209,  1.05836006,  2.09860097],\n",
       "       [ 0.2586938 ,  2.65045374,  1.0839917 ,  2.12938935],\n",
       "       [ 0.05590658,  3.64636432,  1.24941608,  1.73355752],\n",
       "       [ 0.1153773 ,  3.15170846,  1.31593615,  1.83955636],\n",
       "       [ 0.09291777,  3.23590815,  1.54507605,  1.65185402],\n",
       "       [ 0.52058671,  4.01985943,  1.16176998,  1.9924672 ],\n",
       "       [-0.39399967,  3.51201254,  1.37432019,  1.5006616 ],\n",
       "       [ 0.82954812,  4.02087152,  1.12427324,  2.05622213],\n",
       "       [ 0.23269786,  2.71139059,  1.20109902,  1.8555061 ],\n",
       "       [ 2.52847153,  0.4000682 ,  1.23191102,  1.8320934 ],\n",
       "       [ 2.6021751 ,  0.40280404,  1.28750435,  1.9248229 ],\n",
       "       [ 2.42810996,  0.22959308,  1.23443106,  1.685931  ],\n",
       "       [ 2.67213066,  1.68512779, -0.60862909, -1.33163409],\n",
       "       [ 1.75164418,  1.35155286, -0.75897709, -1.06340726],\n",
       "       [ 0.35020009,  2.97257143, -0.60548345, -1.10974032],\n",
       "       [ 1.64285746,  1.41822175, -0.62505664, -1.60958962],\n",
       "       [ 3.91427188, -0.89504627, -0.71387552, -0.86244869],\n",
       "       [ 3.93162269, -0.94315344, -0.82383835, -0.94939012],\n",
       "       [ 1.41653201,  1.37374173, -0.71366694, -1.23914128],\n",
       "       [ 2.14912201,  0.9480504 , -0.64827453, -1.46305707],\n",
       "       [ 2.02607119,  0.77449153, -0.80323678, -1.17729771],\n",
       "       [ 1.69849278,  1.43487951, -0.68622172, -1.54256536],\n",
       "       [ 0.87843572,  2.15815958, -0.66678069, -1.01872774],\n",
       "       [ 1.85338734,  1.0236033 , -0.69854066, -1.33915323],\n",
       "       [ 1.85240508,  1.19825793, -0.54185363, -1.59377397],\n",
       "       [ 1.26705734,  1.97756425, -0.70075871, -0.99557197],\n",
       "       [ 1.23759187,  1.95948306, -0.72519679, -1.07346865],\n",
       "       [ 2.08116811,  0.91707623, -0.76916238, -0.84273389],\n",
       "       [ 4.18507264, -1.12149192, -0.68654662, -1.26549824],\n",
       "       [ 4.1437463 , -1.14804212, -0.64460753, -1.24768625],\n",
       "       [ 2.16978691,  0.99804839, -0.66905008, -0.98092876],\n",
       "       [ 1.66570878,  1.12981887, -0.68681812, -1.08237671],\n",
       "       [-2.7667386 , -0.93942689,  0.81431322, -1.24242999],\n",
       "       [-3.35171247, -0.28428411,  0.86560721, -0.93133445],\n",
       "       [-2.91331348, -1.28205542,  0.83367732, -1.46020138],\n",
       "       [-2.9674747 , -0.77645096,  0.68504217, -0.96169412],\n",
       "       [-3.02360976, -1.13810326,  0.69573194, -1.66948003],\n",
       "       [-3.1189496 , -0.96258483,  0.86161769, -0.47500942],\n",
       "       [-2.95985662, -1.06655317,  0.47439266, -0.93255874],\n",
       "       [-2.91389608, -1.03579698,  0.78622377, -3.00637945],\n",
       "       [-3.0427233 , -0.67363306,  0.88540461, -1.3216072 ],\n",
       "       [-3.14900774, -1.26150237,  0.83766983, -0.44304938],\n",
       "       [-2.95390397, -0.74607622,  0.77122819,  0.14723131],\n",
       "       [-3.03526503, -0.54302657,  0.84002293, -1.18401795],\n",
       "       [-2.96867285, -0.53065932,  0.78018758, -0.77396441],\n",
       "       [-2.98995805, -0.42601921,  0.67074836, -1.48653132],\n",
       "       [-2.96645383, -1.26686269,  0.42533595, -0.19697952],\n",
       "       [-2.89260935, -1.16430997,  0.53268936, -0.52644064],\n",
       "       [-2.92074243, -0.87439148,  0.68681374, -1.11758988],\n",
       "       [-3.0386152 , -1.02340016,  0.5842651 , -2.80328673],\n",
       "       [-2.8979661 , -1.51378494,  0.97851444, -0.3442601 ],\n",
       "       [-3.0620899 , -0.7317467 ,  0.66442043,  0.40054661],\n",
       "       [ 0.69934072,  3.54694431,  2.06374936,  3.33580162],\n",
       "       [ 1.79588615,  4.42268069,  2.11778194,  3.56606787],\n",
       "       [ 2.06266438,  4.46201011,  1.45400723,  4.83838726],\n",
       "       [ 2.24720363,  4.35248406,  2.02222661,  3.07130937],\n",
       "       [ 2.24785926,  4.35099785,  2.00944531,  3.07218122],\n",
       "       [ 2.24583041,  4.33589085,  2.05604107,  3.13169008],\n",
       "       [ 2.11263803,  4.01242666,  2.91091116,  2.56498101],\n",
       "       [ 1.99863616,  3.81733926,  2.68189655,  2.27054533],\n",
       "       [ 0.97846949,  2.26801934,  4.37321263,  1.34569548],\n",
       "       [ 1.58790347,  2.70007706,  4.23370964,  1.49004099],\n",
       "       [ 2.53124325,  2.86063952,  2.06983479,  3.28556503],\n",
       "       [ 2.6438425 ,  2.7945773 ,  2.26329348,  2.76781692],\n",
       "       [ 2.63062766,  2.51769416,  1.74793459,  3.1891118 ],\n",
       "       [ 1.58006872,  0.40601303,  1.62295789,  4.17659925],\n",
       "       [ 2.73782907,  2.44007147,  3.57887778,  1.93627053],\n",
       "       [ 2.73038951,  2.61374452,  2.9350369 ,  2.64352359],\n",
       "       [ 2.61161191,  2.59070287,  2.29460537,  2.8336871 ],\n",
       "       [ 1.39443517,  1.68984021,  4.40024987,  0.82893883],\n",
       "       [ 2.20314738,  2.5727489 ,  4.41989461,  0.97367355],\n",
       "       [ 2.41734701,  2.81654585,  3.62176705,  1.44456623]])"
      ]
     },
     "execution_count": 79,
     "metadata": {},
     "output_type": "execute_result"
    }
   ],
   "source": [
    "init['theta']"
   ]
  },
  {
   "cell_type": "code",
   "execution_count": 76,
   "id": "convenient-force",
   "metadata": {},
   "outputs": [],
   "source": [
    "from mple_learn import stergmGraph\n",
    "sim1 = stergmGraph(\n",
    "    X = df,\n",
    "    form_terms=form_terms,\n",
    "    diss_terms=diss_terms,\n",
    "    lam=[1],\n",
    "    max_steps=50,\n",
    "    newton_max_steps=100,\n",
    "    admm_alpha=1,\n",
    "    converge_tol=1e-5,\n",
    "    verbose=1\n",
    ")"
   ]
  },
  {
   "cell_type": "code",
   "execution_count": 100,
   "id": "north-initial",
   "metadata": {
    "scrolled": true
   },
   "outputs": [],
   "source": [
    "theta_res, z, u, c = sim1.mple(initial_values=init, solver='newton', tau_inc=2, m=10)"
   ]
  },
  {
   "cell_type": "code",
   "execution_count": 80,
   "id": "later-charles",
   "metadata": {},
   "outputs": [
    {
     "data": {
      "text/plain": [
       "(100, 4)"
      ]
     },
     "execution_count": 80,
     "metadata": {},
     "output_type": "execute_result"
    }
   ],
   "source": [
    "init['theta'].shape"
   ]
  },
  {
   "cell_type": "code",
   "execution_count": 99,
   "id": "regulated-suite",
   "metadata": {
    "scrolled": true
   },
   "outputs": [
    {
     "data": {
      "text/plain": [
       "array([ 0, 19, 24, 59, 79])"
      ]
     },
     "execution_count": 99,
     "metadata": {},
     "output_type": "execute_result"
    }
   ],
   "source": [
    "np.arange(99)[np.linalg.norm(np.diff(init['theta'], axis=0), ord=2, axis=1) > 4]"
   ]
  },
  {
   "cell_type": "code",
   "execution_count": 85,
   "id": "living-concrete",
   "metadata": {
    "scrolled": true
   },
   "outputs": [
    {
     "data": {
      "text/plain": [
       "array([[-8.67, -2.3 ,  8.32, -1.58],\n",
       "       [-0.96, -1.72,  2.18, -2.53],\n",
       "       [-0.97, -2.01,  2.24, -1.98],\n",
       "       [-1.18, -1.7 ,  1.94, -1.89],\n",
       "       [-1.  , -2.  ,  2.  , -1.74],\n",
       "       [-1.26, -1.66,  2.18, -1.74],\n",
       "       [-0.89, -2.11,  2.05, -2.07],\n",
       "       [-1.25, -1.8 ,  2.05, -1.96],\n",
       "       [-1.07, -1.98,  2.16, -2.3 ],\n",
       "       [-1.06, -1.98,  2.2 , -2.32],\n",
       "       [-1.3 , -1.65,  2.02, -1.98],\n",
       "       [-1.07, -2.08,  2.11, -2.46],\n",
       "       [-0.94, -2.22,  2.1 , -2.42],\n",
       "       [-0.85, -2.15,  2.04, -1.82],\n",
       "       [-1.34, -1.64,  2.13, -2.22],\n",
       "       [-1.04, -2.18,  2.26, -1.66],\n",
       "       [-1.03, -1.76,  1.95, -1.88],\n",
       "       [-1.03, -2.11,  1.91, -2.33],\n",
       "       [-0.74, -2.09,  2.13, -2.75],\n",
       "       [-1.05, -1.95,  1.91, -1.82],\n",
       "       [ 1.58,  1.36,  1.09,  2.79],\n",
       "       [ 1.8 ,  0.88,  1.01,  2.02],\n",
       "       [ 2.16,  1.16,  1.15,  1.86],\n",
       "       [ 2.12,  1.18,  1.41,  1.83],\n",
       "       [ 1.79,  1.09,  0.71,  2.5 ],\n",
       "       [-0.77,  4.38,  1.31,  1.92],\n",
       "       [-0.51,  3.74,  1.02,  2.15],\n",
       "       [ 0.32,  3.5 ,  1.14,  1.81],\n",
       "       [ 0.51,  2.79,  1.06,  2.1 ],\n",
       "       [ 0.26,  2.65,  1.08,  2.13],\n",
       "       [ 0.06,  3.65,  1.25,  1.73],\n",
       "       [ 0.12,  3.15,  1.32,  1.84],\n",
       "       [ 0.09,  3.24,  1.55,  1.65],\n",
       "       [ 0.52,  4.02,  1.16,  1.99],\n",
       "       [-0.39,  3.51,  1.37,  1.5 ],\n",
       "       [ 0.83,  4.02,  1.12,  2.06],\n",
       "       [ 0.23,  2.71,  1.2 ,  1.86],\n",
       "       [ 2.53,  0.4 ,  1.23,  1.83],\n",
       "       [ 2.6 ,  0.4 ,  1.29,  1.92],\n",
       "       [ 2.43,  0.23,  1.23,  1.69],\n",
       "       [ 2.67,  1.69, -0.61, -1.33],\n",
       "       [ 1.75,  1.35, -0.76, -1.06],\n",
       "       [ 0.35,  2.97, -0.61, -1.11],\n",
       "       [ 1.64,  1.42, -0.63, -1.61],\n",
       "       [ 3.91, -0.9 , -0.71, -0.86],\n",
       "       [ 3.93, -0.94, -0.82, -0.95],\n",
       "       [ 1.42,  1.37, -0.71, -1.24],\n",
       "       [ 2.15,  0.95, -0.65, -1.46],\n",
       "       [ 2.03,  0.77, -0.8 , -1.18],\n",
       "       [ 1.7 ,  1.43, -0.69, -1.54],\n",
       "       [ 0.88,  2.16, -0.67, -1.02],\n",
       "       [ 1.85,  1.02, -0.7 , -1.34],\n",
       "       [ 1.85,  1.2 , -0.54, -1.59],\n",
       "       [ 1.27,  1.98, -0.7 , -1.  ],\n",
       "       [ 1.24,  1.96, -0.73, -1.07],\n",
       "       [ 2.08,  0.92, -0.77, -0.84],\n",
       "       [ 4.19, -1.12, -0.69, -1.27],\n",
       "       [ 4.14, -1.15, -0.64, -1.25],\n",
       "       [ 2.17,  1.  , -0.67, -0.98],\n",
       "       [ 1.67,  1.13, -0.69, -1.08],\n",
       "       [-2.77, -0.94,  0.81, -1.24],\n",
       "       [-3.35, -0.28,  0.87, -0.93],\n",
       "       [-2.91, -1.28,  0.83, -1.46],\n",
       "       [-2.97, -0.78,  0.69, -0.96],\n",
       "       [-3.02, -1.14,  0.7 , -1.67],\n",
       "       [-3.12, -0.96,  0.86, -0.48],\n",
       "       [-2.96, -1.07,  0.47, -0.93],\n",
       "       [-2.91, -1.04,  0.79, -3.01],\n",
       "       [-3.04, -0.67,  0.89, -1.32],\n",
       "       [-3.15, -1.26,  0.84, -0.44],\n",
       "       [-2.95, -0.75,  0.77,  0.15],\n",
       "       [-3.04, -0.54,  0.84, -1.18],\n",
       "       [-2.97, -0.53,  0.78, -0.77],\n",
       "       [-2.99, -0.43,  0.67, -1.49],\n",
       "       [-2.97, -1.27,  0.43, -0.2 ],\n",
       "       [-2.89, -1.16,  0.53, -0.53],\n",
       "       [-2.92, -0.87,  0.69, -1.12],\n",
       "       [-3.04, -1.02,  0.58, -2.8 ],\n",
       "       [-2.9 , -1.51,  0.98, -0.34],\n",
       "       [-3.06, -0.73,  0.66,  0.4 ],\n",
       "       [ 0.7 ,  3.55,  2.06,  3.34],\n",
       "       [ 1.8 ,  4.42,  2.12,  3.57],\n",
       "       [ 2.06,  4.46,  1.45,  4.84],\n",
       "       [ 2.25,  4.35,  2.02,  3.07],\n",
       "       [ 2.25,  4.35,  2.01,  3.07],\n",
       "       [ 2.25,  4.34,  2.06,  3.13],\n",
       "       [ 2.11,  4.01,  2.91,  2.56],\n",
       "       [ 2.  ,  3.82,  2.68,  2.27],\n",
       "       [ 0.98,  2.27,  4.37,  1.35],\n",
       "       [ 1.59,  2.7 ,  4.23,  1.49],\n",
       "       [ 2.53,  2.86,  2.07,  3.29],\n",
       "       [ 2.64,  2.79,  2.26,  2.77],\n",
       "       [ 2.63,  2.52,  1.75,  3.19],\n",
       "       [ 1.58,  0.41,  1.62,  4.18],\n",
       "       [ 2.74,  2.44,  3.58,  1.94],\n",
       "       [ 2.73,  2.61,  2.94,  2.64],\n",
       "       [ 2.61,  2.59,  2.29,  2.83],\n",
       "       [ 1.39,  1.69,  4.4 ,  0.83],\n",
       "       [ 2.2 ,  2.57,  4.42,  0.97],\n",
       "       [ 2.42,  2.82,  3.62,  1.44]])"
      ]
     },
     "execution_count": 85,
     "metadata": {},
     "output_type": "execute_result"
    }
   ],
   "source": [
    "np.round(init['theta'],2)"
   ]
  },
  {
   "cell_type": "code",
   "execution_count": 86,
   "id": "dedicated-workstation",
   "metadata": {},
   "outputs": [
    {
     "data": {
      "text/plain": [
       "array([[-1.,  1.,  2., -3.,  1.],\n",
       "       [-2.,  2.,  1., -1.,  3.]])"
      ]
     },
     "execution_count": 86,
     "metadata": {},
     "output_type": "execute_result"
    },
    {
     "data": {
      "text/plain": [
       "array([[ 2.07944154,  1.09861229, -0.69314718,  0.69314718,  2.30258509],\n",
       "       [-2.        ,  2.        , -1.        , -1.        ,  3.        ]])"
      ]
     },
     "execution_count": 86,
     "metadata": {},
     "output_type": "execute_result"
    }
   ],
   "source": [
    "resdic['coefs_pos']\n",
    "resdic['coefs_neg']"
   ]
  },
  {
   "cell_type": "code",
   "execution_count": 87,
   "id": "charged-migration",
   "metadata": {},
   "outputs": [
    {
     "data": {
      "text/plain": [
       "array([[-1.        , -2.        ,  2.07944154, -2.        ],\n",
       "       [ 1.        ,  2.        ,  1.09861229,  2.        ],\n",
       "       [ 2.        ,  1.        , -0.69314718, -1.        ],\n",
       "       [-3.        , -1.        ,  0.69314718, -1.        ],\n",
       "       [ 1.        ,  3.        ,  2.30258509,  3.        ]])"
      ]
     },
     "execution_count": 87,
     "metadata": {},
     "output_type": "execute_result"
    }
   ],
   "source": [
    "np.append(resdic['coefs_pos'], resdic['coefs_neg'], axis=0).T"
   ]
  },
  {
   "cell_type": "markdown",
   "id": "distinct-globe",
   "metadata": {},
   "source": [
    "### Test Newton's method"
   ]
  },
  {
   "cell_type": "code",
   "execution_count": 9,
   "id": "detected-helena",
   "metadata": {},
   "outputs": [],
   "source": [
    "hess_f = sim1.theta_update_hess_f(theta)\n",
    "grad_f = sim1.theta_update_grad_f(theta, z, u)"
   ]
  },
  {
   "cell_type": "code",
   "execution_count": 39,
   "id": "sixth-conference",
   "metadata": {},
   "outputs": [
    {
     "name": "stdout",
     "output_type": "stream",
     "text": [
      "[INFO]\tInner Step # 0. Current diff is 1.0000001\n",
      "[INFO] Loss = 33092.597021391324\n",
      "max of mu is 0.9996489878379565\n",
      "[INFO]\tInner Step # 1. Current diff is 9.617097546986221\n",
      "[INFO] Loss = 11305.777727932968\n",
      "max of mu is 0.9632169359769646\n",
      "[INFO]\tInner Step # 2. Current diff is 0.2595090612892723\n",
      "[INFO] Loss = 11861.002038092121\n",
      "max of mu is 0.7239483473007992\n",
      "[INFO]\tInner Step # 3. Current diff is 0.459800049101596\n",
      "[INFO] Loss = 11586.37767534945\n",
      "max of mu is 0.7829629395469192\n",
      "[INFO]\tInner Step # 4. Current diff is 0.025880145267771548\n",
      "[INFO] Loss = 11580.147453216698\n",
      "max of mu is 0.788276237493941\n",
      "[INFO]\tInner Step # 5. Current diff is 8.945294012274224e-05\n"
     ]
    }
   ],
   "source": [
    "theta_res = sim1.theta_update(init['theta'], z, u)"
   ]
  },
  {
   "cell_type": "code",
   "execution_count": 140,
   "id": "worthy-promotion",
   "metadata": {},
   "outputs": [
    {
     "data": {
      "text/plain": [
       "array([[-2.39290964,  0.60903965,  0.4352056 , -1.80261384],\n",
       "       [-1.8178356 , -1.55117841,  2.27144208, -0.46653777],\n",
       "       [-4.56820457, -3.919792  , -1.51145279,  2.52212431],\n",
       "       [-4.73860946, -3.93336226,  1.89421578, -1.48659024],\n",
       "       [-0.36294804,  0.09303787,  1.08081491,  1.98301898],\n",
       "       [ 1.39896977,  1.27439511,  0.42027876,  1.07446576],\n",
       "       [ 2.32866375,  2.83051687,  0.46795194,  2.46968428],\n",
       "       [ 3.03979677,  0.28846171,  2.88408828,  0.77524795],\n",
       "       [-1.99453383, -0.85852602,  2.52752802,  1.03164035],\n",
       "       [-3.93030243,  1.13600796,  3.81299235,  1.31769738],\n",
       "       [ 2.78059519,  0.91625975,  0.279195  , -0.67474795],\n",
       "       [ 4.18951476,  2.79440973, -4.28815829, -3.36843649],\n",
       "       [-0.167136  ,  1.79699814, -3.21230955,  0.16659357],\n",
       "       [ 3.28416616,  1.59893526, -4.20601004,  2.47416368],\n",
       "       [ 5.00130672, -0.09500702, -1.49619046, -2.11945833]])"
      ]
     },
     "execution_count": 140,
     "metadata": {},
     "output_type": "execute_result"
    }
   ],
   "source": [
    "theta_res"
   ]
  },
  {
   "cell_type": "markdown",
   "id": "preliminary-creator",
   "metadata": {},
   "source": [
    "### Test fused lasso"
   ]
  },
  {
   "cell_type": "code",
   "execution_count": 48,
   "id": "everyday-cooling",
   "metadata": {},
   "outputs": [],
   "source": [
    "import matlab.engine\n",
    "eng = matlab.engine.start_matlab()\n",
    "eng.addpath(eng.genpath('../gfl/'), nargout=0)"
   ]
  },
  {
   "cell_type": "markdown",
   "id": "distinguished-treaty",
   "metadata": {},
   "source": [
    "### Test mple"
   ]
  },
  {
   "cell_type": "code",
   "execution_count": null,
   "id": "destroyed-colombia",
   "metadata": {},
   "outputs": [],
   "source": [
    "theta_res"
   ]
  },
  {
   "cell_type": "code",
   "execution_count": null,
   "id": "bright-result",
   "metadata": {},
   "outputs": [],
   "source": []
  }
 ],
 "metadata": {
  "kernelspec": {
   "display_name": "Python 3",
   "language": "python",
   "name": "python3"
  },
  "language_info": {
   "codemirror_mode": {
    "name": "ipython",
    "version": 3
   },
   "file_extension": ".py",
   "mimetype": "text/x-python",
   "name": "python",
   "nbconvert_exporter": "python",
   "pygments_lexer": "ipython3",
   "version": "3.9.2"
  }
 },
 "nbformat": 4,
 "nbformat_minor": 5
}
