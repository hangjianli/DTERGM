{
 "cells": [
  {
   "cell_type": "code",
   "execution_count": 1,
   "metadata": {},
   "outputs": [],
   "source": [
    "import numpy as np\n",
    "\n",
    "import rpy2.robjects as robjects\n",
    "from rpy2.robjects.packages import importr\n",
    "from rpy2.robjects import pandas2ri, IntVector, Formula\n",
    "pandas2ri.activate()\n",
    "\n",
    "%load_ext autoreload\n",
    "%autoreload 2\n",
    "from IPython.core.interactiveshell import InteractiveShell\n",
    "InteractiveShell.ast_node_interactivity = \"all\""
   ]
  },
  {
   "cell_type": "code",
   "execution_count": 2,
   "metadata": {},
   "outputs": [],
   "source": [
    "# utils = importr('utils')\n",
    "# utils.install_packages('ergm')"
   ]
  },
  {
   "cell_type": "code",
   "execution_count": 3,
   "metadata": {},
   "outputs": [
    {
     "name": "stderr",
     "output_type": "stream",
     "text": [
      "/Users/hangjianli/.pyenv/versions/3.7.4/envs/leetcode/lib/python3.7/site-packages/rpy2/robjects/vectors.py:980: UserWarning: R object inheriting from \"POSIXct\" but without attribute \"tzone\".\n",
      "  warnings.warn('R object inheriting from \"POSIXct\" but without '\n",
      "/Users/hangjianli/.pyenv/versions/3.7.4/envs/leetcode/lib/python3.7/site-packages/rpy2/robjects/packages_utils.py:127: UserWarning: Conflict when converting R symbols in the package \"network\" to Python symbols: \n",
      "-as_tibble_network -> as_tibble.network, as.tibble.network\n",
      "  warn(msg)\n"
     ]
    }
   ],
   "source": [
    "base = importr('base')\n",
    "stats = importr('stats')\n",
    "ergm = importr('ergm')\n",
    "network = importr('network', on_conflict=\"warn\",\n",
    "                  robject_translations={\n",
    "                      'as.tibble.network': 'as_tibble_network',\n",
    "                      'as_tibble.network': 'as_tibble_network'\n",
    "                  }\n",
    "         )"
   ]
  },
  {
   "cell_type": "markdown",
   "metadata": {},
   "source": [
    "### Load the simulated $A^t$"
   ]
  },
  {
   "cell_type": "code",
   "execution_count": 65,
   "metadata": {},
   "outputs": [],
   "source": [
    "filename = '../data/res3.rds'\n",
    "readRDS = robjects.r['readRDS']\n",
    "res = readRDS(filename)\n",
    "# res = np.array(df).astype(int)"
   ]
  },
  {
   "cell_type": "code",
   "execution_count": 66,
   "metadata": {},
   "outputs": [],
   "source": [
    "resdic = dict(res.items())"
   ]
  },
  {
   "cell_type": "code",
   "execution_count": 67,
   "metadata": {},
   "outputs": [],
   "source": [
    "df = resdic['nw']\n",
    "df = np.array(df).astype(int)"
   ]
  },
  {
   "cell_type": "code",
   "execution_count": 68,
   "metadata": {},
   "outputs": [
    {
     "data": {
      "text/html": [
       "\n",
       "        <span>StrVector with 1 elements.</span>\n",
       "        <table>\n",
       "        <tbody>\n",
       "          <tr>\n",
       "          \n",
       "            <td>\n",
       "            'form: edge+mutual. diss: edge+mutual'\n",
       "            </td>\n",
       "          \n",
       "          </tr>\n",
       "        </tbody>\n",
       "        </table>\n",
       "        "
      ],
      "text/plain": [
       "<rpy2.robjects.vectors.StrVector object at 0x121c5f640> [RTYPES.STRSXP]\n",
       "R classes: ('character',)\n",
       "['form: edge+mutual. diss: edge+mutual']"
      ]
     },
     "execution_count": 68,
     "metadata": {},
     "output_type": "execute_result"
    }
   ],
   "source": [
    "resdic.get('desc')"
   ]
  },
  {
   "cell_type": "code",
   "execution_count": 69,
   "metadata": {},
   "outputs": [
    {
     "data": {
      "text/plain": [
       "(100, 50, 50)"
      ]
     },
     "execution_count": 69,
     "metadata": {},
     "output_type": "execute_result"
    }
   ],
   "source": [
    "df.shape"
   ]
  },
  {
   "cell_type": "markdown",
   "metadata": {},
   "source": [
    "## Initialize the params"
   ]
  },
  {
   "cell_type": "code",
   "execution_count": 74,
   "metadata": {},
   "outputs": [
    {
     "name": "stderr",
     "output_type": "stream",
     "text": [
      "/Users/hangjianli/.pyenv/versions/3.7.4/envs/leetcode/lib/python3.7/site-packages/rpy2/robjects/packages_utils.py:127: UserWarning: Conflict when converting R symbols in the package \"network\" to Python symbols: \n",
      "-as_tibble_network -> as_tibble.network, as.tibble.network\n",
      "  warn(msg)\n",
      "/Users/hangjianli/.pyenv/versions/3.7.4/envs/leetcode/lib/python3.7/site-packages/rpy2/robjects/vectors.py:980: UserWarning: R object inheriting from \"POSIXct\" but without attribute \"tzone\".\n",
      "  warnings.warn('R object inheriting from \"POSIXct\" but without '\n"
     ]
    }
   ],
   "source": [
    "num_nodes = df[0].shape[0]\n",
    "# n = 20\n",
    "T = len(df)\n",
    "# num_changepts = 5\n",
    "\n",
    "p_pos = 2 # edge + mutual\n",
    "p_neg = 2 # edge + mutual\n",
    "p = p_pos + p_neg\n",
    "\n",
    "np.random.seed(42)\n",
    "theta = np.random.normal(0, 0.5, size= (T , p)) \n",
    "z = np.copy(theta) \n",
    "u = np.zeros((T, p)) \n",
    "\n",
    "\n",
    "form_terms = ['edges', 'mutual']\n",
    "diss_terms = ['edges', 'mutual']"
   ]
  },
  {
   "cell_type": "code",
   "execution_count": 75,
   "metadata": {},
   "outputs": [],
   "source": [
    "init = {\n",
    "    'theta': np.copy(theta),\n",
    "    'z': z,\n",
    "    'u': u\n",
    "}"
   ]
  },
  {
   "cell_type": "code",
   "execution_count": 76,
   "metadata": {},
   "outputs": [],
   "source": [
    "from mple_learn import stergmGraph\n",
    "sim1 = stergmGraph(\n",
    "    X = df,\n",
    "    form_terms=form_terms,\n",
    "    diss_terms=diss_terms,\n",
    "    lam=[1],\n",
    "    max_steps=200,\n",
    "    newton_max_steps=100,\n",
    "    admm_alpha=1,\n",
    "    converge_tol=1e-5,\n",
    "    verbose=1\n",
    ")"
   ]
  },
  {
   "cell_type": "code",
   "execution_count": null,
   "metadata": {
    "scrolled": true
   },
   "outputs": [
    {
     "name": "stdout",
     "output_type": "stream",
     "text": [
      "[INFO] ADMM step #0\n",
      "[INFO] Updating theta...\n",
      "[INFO] Newton converged in: 0.4152226448059082.\n",
      "\tUpdating z...\n",
      "[INFO] Updating u...\n",
      "[INFO] max mu : \n",
      " 0.9966155799385504\n",
      "[INFO] dual_resnorm: 1.730003\n",
      "[INFO] primal_resnorm: 0.295115\n",
      "[INFO] convergence: 1.730003\n",
      "-------------------------------------------------\n",
      "[INFO] ADMM step #1\n",
      "[INFO] Updating theta...\n",
      "[INFO] Newton converged in: 0.3796107769012451.\n",
      "\tUpdating z...\n",
      "[INFO] Updating u...\n",
      "[INFO] max mu : \n",
      " 0.9974921051565014\n",
      "[INFO] dual_resnorm: 0.238427\n",
      "[INFO] primal_resnorm: 0.195896\n",
      "[INFO] convergence: 0.238427\n",
      "-------------------------------------------------\n",
      "[INFO] ADMM step #2\n",
      "[INFO] Updating theta...\n",
      "[INFO] Newton converged in: 0.17306971549987793.\n",
      "\tUpdating z...\n",
      "[INFO] Updating u...\n",
      "[INFO] max mu : \n",
      " 0.9980221621038792\n",
      "[INFO] dual_resnorm: 0.122829\n",
      "[INFO] primal_resnorm: 0.121439\n",
      "[INFO] convergence: 0.122829\n",
      "-------------------------------------------------\n",
      "[INFO] ADMM step #3\n",
      "[INFO] Updating theta...\n",
      "[INFO] Newton converged in: 0.17490530014038086.\n",
      "\tUpdating z...\n",
      "[INFO] Updating u...\n",
      "[INFO] max mu : \n",
      " 0.9985019017013446\n",
      "[INFO] dual_resnorm: 0.079870\n",
      "[INFO] primal_resnorm: 0.087522\n",
      "[INFO] convergence: 0.087522\n",
      "-------------------------------------------------\n",
      "[INFO] ADMM step #4\n",
      "[INFO] Updating theta...\n",
      "[INFO] Newton converged in: 0.17896223068237305.\n",
      "\tUpdating z...\n",
      "[INFO] Updating u...\n",
      "[INFO] max mu : \n",
      " 0.9987337123755806\n",
      "[INFO] dual_resnorm: 0.057292\n",
      "[INFO] primal_resnorm: 0.065644\n",
      "[INFO] convergence: 0.065644\n",
      "-------------------------------------------------\n",
      "[INFO] ADMM step #5\n",
      "[INFO] Updating theta...\n",
      "[INFO] Newton converged in: 0.14093995094299316.\n",
      "\tUpdating z...\n",
      "[INFO] Updating u...\n",
      "[INFO] max mu : \n",
      " 0.9988496034189173\n",
      "[INFO] dual_resnorm: 0.040343\n",
      "[INFO] primal_resnorm: 0.051352\n",
      "[INFO] convergence: 0.051352\n",
      "-------------------------------------------------\n",
      "[INFO] ADMM step #6\n",
      "[INFO] Updating theta...\n",
      "[INFO] Newton converged in: 0.1861708164215088.\n",
      "\tUpdating z...\n",
      "[INFO] Updating u...\n",
      "[INFO] max mu : \n",
      " 0.9989137342215562\n",
      "[INFO] dual_resnorm: 0.031755\n",
      "[INFO] primal_resnorm: 0.041619\n",
      "[INFO] convergence: 0.041619\n",
      "-------------------------------------------------\n",
      "[INFO] ADMM step #7\n",
      "[INFO] Updating theta...\n",
      "[INFO] Newton converged in: 0.15905523300170898.\n",
      "\tUpdating z...\n",
      "[INFO] Updating u...\n",
      "[INFO] max mu : \n",
      " 0.998951796804293\n",
      "[INFO] dual_resnorm: 0.024592\n",
      "[INFO] primal_resnorm: 0.033383\n",
      "[INFO] convergence: 0.033383\n",
      "-------------------------------------------------\n",
      "[INFO] ADMM step #8\n",
      "[INFO] Updating theta...\n",
      "[INFO] Newton converged in: 0.1507711410522461.\n",
      "\tUpdating z...\n",
      "[INFO] Updating u...\n",
      "[INFO] max mu : \n",
      " 0.9989757719380261\n",
      "[INFO] dual_resnorm: 0.020572\n",
      "[INFO] primal_resnorm: 0.026372\n",
      "[INFO] convergence: 0.026372\n",
      "-------------------------------------------------\n",
      "[INFO] ADMM step #9\n",
      "[INFO] Updating theta...\n",
      "[INFO] Newton converged in: 0.1897890567779541.\n",
      "\tUpdating z...\n",
      "[INFO] Updating u...\n",
      "[INFO] max mu : \n",
      " 0.9989938923711277\n",
      "[INFO] dual_resnorm: 0.017074\n",
      "[INFO] primal_resnorm: 0.020380\n",
      "[INFO] convergence: 0.020380\n",
      "-------------------------------------------------\n",
      "[INFO] ADMM step #10\n",
      "[INFO] Updating theta...\n",
      "[INFO] Newton converged in: 0.11996984481811523.\n",
      "\tUpdating z...\n",
      "[INFO] Updating u...\n",
      "[INFO] max mu : \n",
      " 0.9990069440662248\n",
      "[INFO] dual_resnorm: 0.013288\n",
      "[INFO] primal_resnorm: 0.016510\n",
      "[INFO] convergence: 0.016510\n",
      "-------------------------------------------------\n",
      "[INFO] ADMM step #11\n",
      "[INFO] Updating theta...\n",
      "[INFO] Newton converged in: 0.1062169075012207.\n",
      "\tUpdating z...\n",
      "[INFO] Updating u...\n",
      "[INFO] max mu : \n",
      " 0.999016869706285\n",
      "[INFO] dual_resnorm: 0.010823\n",
      "[INFO] primal_resnorm: 0.013924\n",
      "[INFO] convergence: 0.013924\n",
      "-------------------------------------------------\n",
      "[INFO] ADMM step #12\n",
      "[INFO] Updating theta...\n",
      "[INFO] Newton converged in: 0.11620092391967773.\n",
      "\tUpdating z...\n",
      "[INFO] Updating u...\n",
      "[INFO] max mu : \n",
      " 0.9990249435552022\n",
      "[INFO] dual_resnorm: 0.009235\n",
      "[INFO] primal_resnorm: 0.012111\n",
      "[INFO] convergence: 0.012111\n",
      "-------------------------------------------------\n",
      "[INFO] ADMM step #13\n",
      "[INFO] Updating theta...\n",
      "[INFO] Newton converged in: 0.10375499725341797.\n",
      "\tUpdating z...\n",
      "[INFO] Updating u...\n",
      "[INFO] max mu : \n",
      " 0.9990312115389506\n",
      "[INFO] dual_resnorm: 0.007859\n",
      "[INFO] primal_resnorm: 0.010589\n",
      "[INFO] convergence: 0.010589\n",
      "-------------------------------------------------\n",
      "[INFO] ADMM step #14\n",
      "[INFO] Updating theta...\n",
      "[INFO] Newton converged in: 0.11016297340393066.\n",
      "\tUpdating z...\n",
      "[INFO] Updating u...\n",
      "[INFO] max mu : \n",
      " 0.9990365099850058\n",
      "[INFO] dual_resnorm: 0.007322\n",
      "[INFO] primal_resnorm: 0.009018\n",
      "[INFO] convergence: 0.009018\n",
      "-------------------------------------------------\n",
      "[INFO] ADMM step #15\n",
      "[INFO] Updating theta...\n",
      "[INFO] Newton converged in: 0.10366201400756836.\n",
      "\tUpdating z...\n",
      "[INFO] Updating u...\n",
      "[INFO] max mu : \n",
      " 0.9990409801085519\n",
      "[INFO] dual_resnorm: 0.006269\n",
      "[INFO] primal_resnorm: 0.008101\n",
      "[INFO] convergence: 0.008101\n",
      "-------------------------------------------------\n",
      "[INFO] ADMM step #16\n",
      "[INFO] Updating theta...\n",
      "[INFO] Newton converged in: 0.11359500885009766.\n",
      "\tUpdating z...\n",
      "[INFO] Updating u...\n",
      "[INFO] max mu : \n",
      " 0.9990446208363697\n",
      "[INFO] dual_resnorm: 0.005448\n",
      "[INFO] primal_resnorm: 0.007439\n",
      "[INFO] convergence: 0.007439\n",
      "-------------------------------------------------\n",
      "[INFO] ADMM step #17\n",
      "[INFO] Updating theta...\n",
      "[INFO] Newton converged in: 0.19741010665893555.\n",
      "\tUpdating z...\n",
      "[INFO] Updating u...\n",
      "[INFO] max mu : \n",
      " 0.9990477329394443\n",
      "[INFO] dual_resnorm: 0.004974\n",
      "[INFO] primal_resnorm: 0.006921\n",
      "[INFO] convergence: 0.006921\n",
      "-------------------------------------------------\n",
      "[INFO] ADMM step #18\n",
      "[INFO] Updating theta...\n",
      "[INFO] Newton converged in: 0.48885488510131836.\n",
      "\tUpdating z...\n",
      "[INFO] Updating u...\n",
      "[INFO] max mu : \n",
      " 0.999050357023161\n",
      "[INFO] dual_resnorm: 0.004694\n",
      "[INFO] primal_resnorm: 0.006349\n",
      "[INFO] convergence: 0.006349\n",
      "-------------------------------------------------\n",
      "[INFO] ADMM step #19\n",
      "[INFO] Updating theta...\n",
      "[INFO] Newton converged in: 0.10343503952026367.\n",
      "\tUpdating z...\n",
      "[INFO] Updating u...\n",
      "[INFO] max mu : \n",
      " 0.9990526632999329\n",
      "[INFO] dual_resnorm: 0.004177\n",
      "[INFO] primal_resnorm: 0.005901\n",
      "[INFO] convergence: 0.005901\n",
      "-------------------------------------------------\n",
      "[INFO] ADMM step #20\n",
      "[INFO] Updating theta...\n",
      "[INFO] Newton converged in: 0.10916996002197266.\n",
      "\tUpdating z...\n",
      "[INFO] Updating u...\n",
      "[INFO] max mu : \n",
      " 0.9990545588196148\n",
      "[INFO] dual_resnorm: 0.003774\n",
      "[INFO] primal_resnorm: 0.005620\n",
      "[INFO] convergence: 0.005620\n",
      "-------------------------------------------------\n",
      "[INFO] ADMM step #21\n",
      "[INFO] Updating theta...\n",
      "[INFO] Newton converged in: 0.11530709266662598.\n",
      "\tUpdating z...\n",
      "[INFO] Updating u...\n",
      "[INFO] max mu : \n",
      " 0.9990561827006466\n",
      "[INFO] dual_resnorm: 0.003495\n",
      "[INFO] primal_resnorm: 0.005409\n",
      "[INFO] convergence: 0.005409\n",
      "-------------------------------------------------\n",
      "[INFO] ADMM step #22\n",
      "[INFO] Updating theta...\n",
      "[INFO] Newton converged in: 0.10686707496643066.\n",
      "\tUpdating z...\n",
      "[INFO] Updating u...\n",
      "[INFO] max mu : \n",
      " 0.9990575222236755\n",
      "[INFO] dual_resnorm: 0.004028\n",
      "[INFO] primal_resnorm: 0.004663\n",
      "[INFO] convergence: 0.004663\n",
      "-------------------------------------------------\n",
      "[INFO] ADMM step #23\n",
      "[INFO] Updating theta...\n",
      "[INFO] Newton converged in: 0.11832809448242188.\n",
      "\tUpdating z...\n",
      "[INFO] Updating u...\n",
      "[INFO] max mu : \n",
      " 0.9990587339377069\n",
      "[INFO] dual_resnorm: 0.003418\n",
      "[INFO] primal_resnorm: 0.004145\n",
      "[INFO] convergence: 0.004145\n",
      "-------------------------------------------------\n",
      "[INFO] ADMM step #24\n",
      "[INFO] Updating theta...\n",
      "[INFO] Newton converged in: 0.10308003425598145.\n",
      "\tUpdating z...\n",
      "[INFO] Updating u...\n",
      "[INFO] max mu : \n",
      " 0.9990595717019822\n",
      "[INFO] dual_resnorm: 0.002956\n",
      "[INFO] primal_resnorm: 0.003877\n",
      "[INFO] convergence: 0.003877\n",
      "-------------------------------------------------\n",
      "[INFO] ADMM step #25\n",
      "[INFO] Updating theta...\n",
      "[INFO] Newton converged in: 0.10293793678283691.\n",
      "\tUpdating z...\n",
      "[INFO] Updating u...\n",
      "[INFO] max mu : \n",
      " 0.9990603986432011\n",
      "[INFO] dual_resnorm: 0.002743\n",
      "[INFO] primal_resnorm: 0.003707\n",
      "[INFO] convergence: 0.003707\n",
      "-------------------------------------------------\n",
      "[INFO] ADMM step #26\n",
      "[INFO] Updating theta...\n",
      "[INFO] Newton converged in: 0.10342001914978027.\n",
      "\tUpdating z...\n",
      "[INFO] Updating u...\n",
      "[INFO] max mu : \n",
      " 0.9990610862121971\n",
      "[INFO] dual_resnorm: 0.002594\n",
      "[INFO] primal_resnorm: 0.003571\n",
      "[INFO] convergence: 0.003571\n",
      "-------------------------------------------------\n",
      "[INFO] ADMM step #27\n",
      "[INFO] Updating theta...\n",
      "[INFO] Newton converged in: 0.1037299633026123.\n",
      "\tUpdating z...\n"
     ]
    },
    {
     "name": "stdout",
     "output_type": "stream",
     "text": [
      "[INFO] Updating u...\n",
      "[INFO] max mu : \n",
      " 0.999061665698125\n",
      "[INFO] dual_resnorm: 0.002464\n",
      "[INFO] primal_resnorm: 0.003459\n",
      "[INFO] convergence: 0.003459\n",
      "-------------------------------------------------\n",
      "[INFO] ADMM step #28\n",
      "[INFO] Updating theta...\n",
      "[INFO] Newton converged in: 0.134476900100708.\n",
      "\tUpdating z...\n",
      "[INFO] Updating u...\n",
      "[INFO] max mu : \n",
      " 0.9990621535906424\n",
      "[INFO] dual_resnorm: 0.002347\n",
      "[INFO] primal_resnorm: 0.003363\n",
      "[INFO] convergence: 0.003363\n",
      "-------------------------------------------------\n",
      "[INFO] ADMM step #29\n",
      "[INFO] Updating theta...\n",
      "[INFO] Newton converged in: 0.1145169734954834.\n",
      "\tUpdating z...\n",
      "[INFO] Updating u...\n",
      "[INFO] max mu : \n",
      " 0.999062564865261\n",
      "[INFO] dual_resnorm: 0.002258\n",
      "[INFO] primal_resnorm: 0.003257\n",
      "[INFO] convergence: 0.003257\n",
      "-------------------------------------------------\n",
      "[INFO] ADMM step #30\n",
      "[INFO] Updating theta...\n",
      "[INFO] Newton converged in: 0.1035618782043457.\n",
      "\tUpdating z...\n",
      "[INFO] Updating u...\n",
      "[INFO] max mu : \n",
      " 0.9990630192267144\n",
      "[INFO] dual_resnorm: 0.002209\n",
      "[INFO] primal_resnorm: 0.003130\n",
      "[INFO] convergence: 0.003130\n",
      "-------------------------------------------------\n",
      "[INFO] ADMM step #31\n",
      "[INFO] Updating theta...\n",
      "[INFO] Newton converged in: 0.10317683219909668.\n",
      "\tUpdating z...\n",
      "[INFO] Updating u...\n",
      "[INFO] max mu : \n",
      " 0.9990632918559179\n",
      "[INFO] dual_resnorm: 0.002165\n",
      "[INFO] primal_resnorm: 0.002914\n",
      "[INFO] convergence: 0.002914\n",
      "-------------------------------------------------\n",
      "[INFO] ADMM step #32\n",
      "[INFO] Updating theta...\n",
      "[INFO] Newton converged in: 0.10285782814025879.\n",
      "\tUpdating z...\n",
      "[INFO] Updating u...\n",
      "[INFO] max mu : \n",
      " 0.9990635215424951\n",
      "[INFO] dual_resnorm: 0.002459\n",
      "[INFO] primal_resnorm: 0.002388\n",
      "[INFO] convergence: 0.002459\n",
      "-------------------------------------------------\n",
      "[INFO] ADMM step #33\n",
      "[INFO] Updating theta...\n",
      "[INFO] Newton converged in: 0.10632014274597168.\n",
      "\tUpdating z...\n",
      "[INFO] Updating u...\n",
      "[INFO] max mu : \n",
      " 0.9990637163505801\n",
      "[INFO] dual_resnorm: 0.001996\n",
      "[INFO] primal_resnorm: 0.002162\n",
      "[INFO] convergence: 0.002162\n",
      "-------------------------------------------------\n",
      "[INFO] ADMM step #34\n",
      "[INFO] Updating theta...\n",
      "[INFO] Newton converged in: 0.10353779792785645.\n",
      "\tUpdating z...\n",
      "[INFO] Updating u...\n",
      "[INFO] max mu : \n",
      " 0.9990638704509397\n",
      "[INFO] dual_resnorm: 0.001858\n",
      "[INFO] primal_resnorm: 0.002064\n",
      "[INFO] convergence: 0.002064\n",
      "-------------------------------------------------\n",
      "[INFO] ADMM step #35\n",
      "[INFO] Updating theta...\n",
      "[INFO] Newton converged in: 0.11415481567382812.\n",
      "\tUpdating z...\n",
      "[INFO] Updating u...\n",
      "[INFO] max mu : \n",
      " 0.9990640146344824\n",
      "[INFO] dual_resnorm: 0.001791\n",
      "[INFO] primal_resnorm: 0.002014\n",
      "[INFO] convergence: 0.002014\n",
      "-------------------------------------------------\n",
      "[INFO] ADMM step #36\n",
      "[INFO] Updating theta...\n",
      "[INFO] Newton converged in: 0.10464215278625488.\n",
      "\tUpdating z...\n"
     ]
    }
   ],
   "source": [
    "theta_res, z, u, c = sim1.mple(initial_values=init, solver='newton', tau_inc=2, m=10)"
   ]
  },
  {
   "cell_type": "code",
   "execution_count": 43,
   "metadata": {
    "scrolled": true
   },
   "outputs": [
    {
     "data": {
      "text/plain": [
       "array([4, 9])"
      ]
     },
     "execution_count": 43,
     "metadata": {},
     "output_type": "execute_result"
    }
   ],
   "source": [
    "np.arange(14)[np.linalg.norm(np.diff(theta_res, axis=0), ord=2, axis=1) > .7]"
   ]
  },
  {
   "cell_type": "code",
   "execution_count": 64,
   "metadata": {
    "scrolled": true
   },
   "outputs": [
    {
     "data": {
      "text/plain": [
       "array([[-1.64,  2.28, -0.67,  1.19],\n",
       "       [-1.64,  2.28, -0.67,  1.19],\n",
       "       [-1.64,  2.28, -0.67,  1.19],\n",
       "       [-1.64,  2.28, -0.67,  1.19],\n",
       "       [-1.64,  2.28, -0.67,  1.19],\n",
       "       [-1.64,  2.28, -0.67,  1.19],\n",
       "       [-1.64,  2.28, -0.67,  1.19],\n",
       "       [-1.64,  2.28, -0.67,  1.19],\n",
       "       [-1.64,  2.28, -0.67,  1.19],\n",
       "       [-1.64,  2.28, -0.67,  1.19],\n",
       "       [-1.64,  2.28, -0.67,  1.19],\n",
       "       [-1.64,  2.28, -0.67,  1.19],\n",
       "       [-1.64,  2.28, -0.67,  1.19],\n",
       "       [-1.64,  2.28, -0.67,  1.19],\n",
       "       [-1.64,  2.28, -0.67,  1.19],\n",
       "       [-1.64,  2.28, -0.67,  1.19],\n",
       "       [-1.64,  2.28, -0.67,  1.19],\n",
       "       [-1.64,  2.28, -0.67,  1.19],\n",
       "       [-1.64,  2.28, -0.67,  1.19],\n",
       "       [-1.64,  2.28, -0.67,  1.19],\n",
       "       [-1.64,  2.28, -0.67,  1.19],\n",
       "       [-1.64,  2.28, -0.67,  1.19],\n",
       "       [-1.64,  2.28, -0.67,  1.19],\n",
       "       [-1.64,  2.28, -0.67,  1.19],\n",
       "       [-1.64,  2.28, -0.67,  1.19],\n",
       "       [-1.64,  2.28, -0.67,  1.19],\n",
       "       [-1.64,  2.28, -0.67,  1.19],\n",
       "       [-1.64,  2.28, -0.67,  1.19],\n",
       "       [-1.64,  2.28, -0.67,  1.19],\n",
       "       [-1.64,  2.28, -0.67,  1.19],\n",
       "       [-1.64,  2.28, -0.67,  1.19],\n",
       "       [-1.64,  2.28, -0.67,  1.19],\n",
       "       [-1.64,  2.28, -0.67,  1.19],\n",
       "       [-1.64,  2.28, -0.67,  1.19],\n",
       "       [-1.64,  2.28, -0.67,  1.19],\n",
       "       [-1.64,  2.28, -0.67,  1.19],\n",
       "       [-1.64,  2.28, -0.67,  1.19],\n",
       "       [-1.64,  2.28, -0.67,  1.19],\n",
       "       [-1.64,  2.28, -0.67,  1.19],\n",
       "       [-1.64,  2.28, -0.67,  1.19],\n",
       "       [-1.64,  2.28, -0.67,  1.19],\n",
       "       [-1.64,  2.28, -0.67,  1.19],\n",
       "       [-1.64,  2.28, -0.67,  1.19],\n",
       "       [-1.64,  2.28, -0.67,  1.19],\n",
       "       [-1.64,  2.28, -0.67,  1.19],\n",
       "       [-1.64,  2.28, -0.67,  1.19],\n",
       "       [-1.64,  2.28, -0.67,  1.19],\n",
       "       [-1.64,  2.28, -0.67,  1.19],\n",
       "       [-1.64,  2.28, -0.67,  1.19],\n",
       "       [-1.64,  2.28, -0.67,  1.19]])"
      ]
     },
     "execution_count": 64,
     "metadata": {},
     "output_type": "execute_result"
    }
   ],
   "source": [
    "np.round(theta_res,2)"
   ]
  },
  {
   "cell_type": "code",
   "execution_count": 38,
   "metadata": {
    "scrolled": true
   },
   "outputs": [
    {
     "data": {
      "text/plain": [
       "array([[-1.39, -0.55,  1.58,  0.26],\n",
       "       [-1.39, -0.55,  1.58,  0.26],\n",
       "       [-1.39, -0.55,  1.58,  0.26],\n",
       "       [-1.39, -0.55,  1.58,  0.26],\n",
       "       [-1.39, -0.55,  1.58,  0.26],\n",
       "       [ 0.39,  1.28,  1.19,  0.87],\n",
       "       [ 0.39,  1.28,  1.19,  0.87],\n",
       "       [ 0.39,  1.28,  1.19,  0.87],\n",
       "       [ 0.39,  1.28,  1.19,  0.87],\n",
       "       [ 0.39,  1.28,  1.19,  0.87],\n",
       "       [ 0.87,  1.67, -0.38, -0.4 ],\n",
       "       [ 0.91,  1.7 , -0.53, -0.45],\n",
       "       [ 0.91,  1.7 , -0.53, -0.45],\n",
       "       [ 0.91,  1.7 , -0.53, -0.45],\n",
       "       [ 0.91,  1.7 , -0.53, -0.45]])"
      ]
     },
     "execution_count": 38,
     "metadata": {},
     "output_type": "execute_result"
    }
   ],
   "source": [
    "np.round(theta_res,2)"
   ]
  },
  {
   "cell_type": "code",
   "execution_count": 141,
   "metadata": {},
   "outputs": [
    {
     "data": {
      "text/plain": [
       "array([[-1.,  1.,  2.],\n",
       "       [-2.,  2.,  1.]])"
      ]
     },
     "execution_count": 141,
     "metadata": {},
     "output_type": "execute_result"
    },
    {
     "data": {
      "text/plain": [
       "array([[ 2.07944154,  1.09861229, -0.69314718],\n",
       "       [-2.        ,  2.        , -1.        ]])"
      ]
     },
     "execution_count": 141,
     "metadata": {},
     "output_type": "execute_result"
    }
   ],
   "source": [
    "resdic['coefs_pos'][:,:3]\n",
    "resdic['coefs_neg'][:,:3]"
   ]
  },
  {
   "cell_type": "code",
   "execution_count": 258,
   "metadata": {},
   "outputs": [
    {
     "data": {
      "text/plain": [
       "array([[-1.        , -2.        ,  2.07944154, -2.        ],\n",
       "       [ 1.        ,  2.        ,  1.09861229,  2.        ],\n",
       "       [ 2.        ,  1.        , -0.69314718, -1.        ]])"
      ]
     },
     "execution_count": 258,
     "metadata": {},
     "output_type": "execute_result"
    }
   ],
   "source": [
    "np.append(resdic['coefs_pos'][:,:3], resdic['coefs_neg'][:,:3], axis=0).T"
   ]
  },
  {
   "cell_type": "markdown",
   "metadata": {},
   "source": [
    "### Test Newton's method"
   ]
  },
  {
   "cell_type": "code",
   "execution_count": 9,
   "metadata": {},
   "outputs": [],
   "source": [
    "hess_f = sim1.theta_update_hess_f(theta)\n",
    "grad_f = sim1.theta_update_grad_f(theta, z, u)"
   ]
  },
  {
   "cell_type": "code",
   "execution_count": 39,
   "metadata": {},
   "outputs": [
    {
     "name": "stdout",
     "output_type": "stream",
     "text": [
      "[INFO]\tInner Step # 0. Current diff is 1.0000001\n",
      "[INFO] Loss = 33092.597021391324\n",
      "max of mu is 0.9996489878379565\n",
      "[INFO]\tInner Step # 1. Current diff is 9.617097546986221\n",
      "[INFO] Loss = 11305.777727932968\n",
      "max of mu is 0.9632169359769646\n",
      "[INFO]\tInner Step # 2. Current diff is 0.2595090612892723\n",
      "[INFO] Loss = 11861.002038092121\n",
      "max of mu is 0.7239483473007992\n",
      "[INFO]\tInner Step # 3. Current diff is 0.459800049101596\n",
      "[INFO] Loss = 11586.37767534945\n",
      "max of mu is 0.7829629395469192\n",
      "[INFO]\tInner Step # 4. Current diff is 0.025880145267771548\n",
      "[INFO] Loss = 11580.147453216698\n",
      "max of mu is 0.788276237493941\n",
      "[INFO]\tInner Step # 5. Current diff is 8.945294012274224e-05\n"
     ]
    }
   ],
   "source": [
    "theta_res = sim1.theta_update(init['theta'], z, u)"
   ]
  },
  {
   "cell_type": "code",
   "execution_count": 140,
   "metadata": {},
   "outputs": [
    {
     "data": {
      "text/plain": [
       "array([[-2.39290964,  0.60903965,  0.4352056 , -1.80261384],\n",
       "       [-1.8178356 , -1.55117841,  2.27144208, -0.46653777],\n",
       "       [-4.56820457, -3.919792  , -1.51145279,  2.52212431],\n",
       "       [-4.73860946, -3.93336226,  1.89421578, -1.48659024],\n",
       "       [-0.36294804,  0.09303787,  1.08081491,  1.98301898],\n",
       "       [ 1.39896977,  1.27439511,  0.42027876,  1.07446576],\n",
       "       [ 2.32866375,  2.83051687,  0.46795194,  2.46968428],\n",
       "       [ 3.03979677,  0.28846171,  2.88408828,  0.77524795],\n",
       "       [-1.99453383, -0.85852602,  2.52752802,  1.03164035],\n",
       "       [-3.93030243,  1.13600796,  3.81299235,  1.31769738],\n",
       "       [ 2.78059519,  0.91625975,  0.279195  , -0.67474795],\n",
       "       [ 4.18951476,  2.79440973, -4.28815829, -3.36843649],\n",
       "       [-0.167136  ,  1.79699814, -3.21230955,  0.16659357],\n",
       "       [ 3.28416616,  1.59893526, -4.20601004,  2.47416368],\n",
       "       [ 5.00130672, -0.09500702, -1.49619046, -2.11945833]])"
      ]
     },
     "execution_count": 140,
     "metadata": {},
     "output_type": "execute_result"
    }
   ],
   "source": [
    "theta_res"
   ]
  },
  {
   "cell_type": "markdown",
   "metadata": {},
   "source": [
    "### Test fused lasso"
   ]
  },
  {
   "cell_type": "code",
   "execution_count": 48,
   "metadata": {},
   "outputs": [],
   "source": [
    "import matlab.engine\n",
    "eng = matlab.engine.start_matlab()\n",
    "eng.addpath(eng.genpath('../gfl/'), nargout=0)"
   ]
  },
  {
   "cell_type": "markdown",
   "metadata": {},
   "source": [
    "### Test mple"
   ]
  },
  {
   "cell_type": "code",
   "execution_count": null,
   "metadata": {},
   "outputs": [],
   "source": [
    "theta_res"
   ]
  },
  {
   "cell_type": "code",
   "execution_count": null,
   "metadata": {},
   "outputs": [],
   "source": []
  }
 ],
 "metadata": {
  "kernelspec": {
   "display_name": "Python 3",
   "language": "python",
   "name": "python3"
  },
  "language_info": {
   "codemirror_mode": {
    "name": "ipython",
    "version": 3
   },
   "file_extension": ".py",
   "mimetype": "text/x-python",
   "name": "python",
   "nbconvert_exporter": "python",
   "pygments_lexer": "ipython3",
   "version": "3.7.4"
  }
 },
 "nbformat": 4,
 "nbformat_minor": 5
}
