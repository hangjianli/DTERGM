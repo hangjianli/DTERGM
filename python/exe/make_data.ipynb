{
 "cells": [
  {
   "cell_type": "code",
   "execution_count": 30,
   "id": "47ee4b06",
   "metadata": {},
   "outputs": [
    {
     "data": {
      "text/html": [
       "<style>.container { width:95% !important; }</style>"
      ],
      "text/plain": [
       "<IPython.core.display.HTML object>"
      ]
     },
     "metadata": {},
     "output_type": "display_data"
    }
   ],
   "source": [
    "from IPython.core.display import display, HTML\n",
    "display(HTML(\"<style>.container { width:95% !important; }</style>\"))"
   ]
  },
  {
   "cell_type": "code",
   "execution_count": 32,
   "id": "8a632cba",
   "metadata": {},
   "outputs": [],
   "source": [
    "%run ../lib/make_data_lib.ipynb"
   ]
  },
  {
   "cell_type": "code",
   "execution_count": 5,
   "id": "98e866a2",
   "metadata": {},
   "outputs": [],
   "source": [
    "conf = {\n",
    "    \"outdir\": \"../../output/mit1\",\n",
    "    \"data_name\": \"mit\",\n",
    "    \"form_terms\": [\"edges\", \"mutual\"],\n",
    "    \"diss_terms\": [\"edges\", \"mutual\"],\n",
    "    \"true_change_points\": None,\n",
    "}"
   ]
  },
  {
   "cell_type": "code",
   "execution_count": 6,
   "id": "b778e949",
   "metadata": {},
   "outputs": [
    {
     "name": "stdout",
     "output_type": "stream",
     "text": [
      "time series length: 232\n",
      "network size: 96 x 96\n",
      "statistics dimension: 4\n",
      "Saving change statistics...\n",
      "shape of H: (232, 9216, 4)\n",
      "shape of y: (232, 9216)\n",
      "CPU times: user 8.46 s, sys: 243 ms, total: 8.7 s\n",
      "Wall time: 8.75 s\n"
     ]
    }
   ],
   "source": [
    "%%time\n",
    "output_dir = conf[\"outdir\"] + ('' if conf[\"outdir\"].endswith('/') else '/')\n",
    "input_data = conf[\"data_name\"] + ('' if conf[\"data_name\"].endswith('.rds') else '.rds')\n",
    "H_outfile = output_dir + conf[\"data_name\"] + \"_H.txt\"\n",
    "y_outfile = output_dir + conf[\"data_name\"] + \"_y.txt\"\n",
    "data = readRDS(\"../../data/\" + input_data)\n",
    "\n",
    "args_dir = utils.make_directory(output_dir, 'args')\n",
    "utils.save_args(conf, args_dir + \"args.txt\")\n",
    "save_H_y(data, conf, H_outfile, y_outfile)"
   ]
  },
  {
   "cell_type": "code",
   "execution_count": 10,
   "id": "23c0cae3",
   "metadata": {},
   "outputs": [
    {
     "data": {
      "text/plain": [
       "'mit.rds'"
      ]
     },
     "execution_count": 10,
     "metadata": {},
     "output_type": "execute_result"
    }
   ],
   "source": [
    "input_data"
   ]
  },
  {
   "cell_type": "code",
   "execution_count": 9,
   "id": "f3bd30da",
   "metadata": {},
   "outputs": [
    {
     "data": {
      "text/plain": [
       "(232, 96, 96)"
      ]
     },
     "execution_count": 9,
     "metadata": {},
     "output_type": "execute_result"
    }
   ],
   "source": [
    "data.shape"
   ]
  },
  {
   "cell_type": "markdown",
   "id": "802acb88",
   "metadata": {},
   "source": [
    "# Stochastic Block models"
   ]
  },
  {
   "cell_type": "markdown",
   "id": "01337fe3",
   "metadata": {},
   "source": [
    "* T = [100, 500, 1000]\n",
    "* n = [100, 200, 500]\n",
    "* $\\rho$ = [0, 0.5, 0.9]"
   ]
  },
  {
   "cell_type": "markdown",
   "id": "49840f5f",
   "metadata": {},
   "source": [
    "### T, n, $\\rho$ =  (500, 100, 0)"
   ]
  },
  {
   "cell_type": "code",
   "execution_count": 14,
   "id": "5fe88e54",
   "metadata": {},
   "outputs": [],
   "source": [
    "conf = {\n",
    "    \"outdir\": \"../../output/sbm1\",\n",
    "    \"data_name\": \"sbm_rho00n100t500.rds\",\n",
    "    \"form_terms\": [\"edges\", \"mutual\"],\n",
    "    \"diss_terms\": [\"edges\", \"mutual\"],\n",
    "    \"true_change_points\": [167, 333],\n",
    "}"
   ]
  },
  {
   "cell_type": "code",
   "execution_count": 15,
   "id": "c7dd5260",
   "metadata": {},
   "outputs": [
    {
     "name": "stdout",
     "output_type": "stream",
     "text": [
      "time series length: 500\n",
      "network size: 100 x 100\n",
      "statistics dimension: 4\n",
      "Saving change statistics...\n",
      "shape of H: (500, 10000, 4)\n",
      "shape of y: (500, 10000)\n",
      "CPU times: user 36 s, sys: 838 ms, total: 36.8 s\n",
      "Wall time: 36.8 s\n"
     ]
    }
   ],
   "source": [
    "%%time\n",
    "output_dir = conf[\"outdir\"] + ('' if conf[\"outdir\"].endswith('/') else '/')\n",
    "input_data = conf[\"data_name\"] + ('' if conf[\"data_name\"].endswith('.rds') else '.rds')\n",
    "H_outfile = output_dir + conf[\"data_name\"] + \"_H.txt\"\n",
    "y_outfile = output_dir + conf[\"data_name\"] + \"_y.txt\"\n",
    "data = readRDS(\"../../data/sbm/\" + input_data)\n",
    "\n",
    "args_dir = utils.make_directory(output_dir, 'args')\n",
    "utils.save_args(conf, args_dir + \"args.txt\")\n",
    "save_H_y(data, conf, H_outfile, y_outfile)"
   ]
  },
  {
   "cell_type": "markdown",
   "id": "bd5e358e",
   "metadata": {},
   "source": [
    "### T, n, $\\rho$ =  (500, 100, 0.5)"
   ]
  },
  {
   "cell_type": "code",
   "execution_count": 16,
   "id": "6204beff",
   "metadata": {},
   "outputs": [],
   "source": [
    "conf = {\n",
    "    \"outdir\": \"../../output/sbm2\",\n",
    "    \"data_name\": \"sbm_rho05n100t500.rds\",\n",
    "    \"form_terms\": [\"edges\", \"mutual\"],\n",
    "    \"diss_terms\": [\"edges\", \"mutual\"],\n",
    "    \"true_change_points\": [167, 333],\n",
    "}"
   ]
  },
  {
   "cell_type": "code",
   "execution_count": 17,
   "id": "ff65d282",
   "metadata": {},
   "outputs": [
    {
     "name": "stdout",
     "output_type": "stream",
     "text": [
      "time series length: 500\n",
      "network size: 100 x 100\n",
      "statistics dimension: 4\n",
      "Saving change statistics...\n",
      "shape of H: (500, 10000, 4)\n",
      "shape of y: (500, 10000)\n",
      "CPU times: user 35.7 s, sys: 787 ms, total: 36.5 s\n",
      "Wall time: 36.5 s\n"
     ]
    }
   ],
   "source": [
    "%%time\n",
    "output_dir = conf[\"outdir\"] + ('' if conf[\"outdir\"].endswith('/') else '/')\n",
    "input_data = conf[\"data_name\"] + ('' if conf[\"data_name\"].endswith('.rds') else '.rds')\n",
    "H_outfile = output_dir + conf[\"data_name\"] + \"_H.txt\"\n",
    "y_outfile = output_dir + conf[\"data_name\"] + \"_y.txt\"\n",
    "data = readRDS(\"../../data/sbm/\" + input_data)\n",
    "\n",
    "args_dir = utils.make_directory(output_dir, 'args')\n",
    "utils.save_args(conf, args_dir + \"args.txt\")\n",
    "save_H_y(data, conf, H_outfile, y_outfile)"
   ]
  },
  {
   "cell_type": "markdown",
   "id": "a011d0d8",
   "metadata": {},
   "source": [
    "### T, n, $\\rho$ =  (500, 100, 0.9)"
   ]
  },
  {
   "cell_type": "code",
   "execution_count": 18,
   "id": "05c9d851",
   "metadata": {},
   "outputs": [],
   "source": [
    "conf = {\n",
    "    \"outdir\": \"../../output/sbm3\",\n",
    "    \"data_name\": \"sbm_rho09n100t500.rds\",\n",
    "    \"form_terms\": [\"edges\", \"mutual\"],\n",
    "    \"diss_terms\": [\"edges\", \"mutual\"],\n",
    "    \"true_change_points\": [167, 333],\n",
    "}"
   ]
  },
  {
   "cell_type": "code",
   "execution_count": 19,
   "id": "4c32a158",
   "metadata": {},
   "outputs": [
    {
     "name": "stdout",
     "output_type": "stream",
     "text": [
      "time series length: 500\n",
      "network size: 100 x 100\n",
      "statistics dimension: 4\n",
      "Saving change statistics...\n",
      "shape of H: (500, 10000, 4)\n",
      "shape of y: (500, 10000)\n",
      "CPU times: user 35.5 s, sys: 769 ms, total: 36.3 s\n",
      "Wall time: 36.3 s\n"
     ]
    }
   ],
   "source": [
    "%%time\n",
    "output_dir = conf[\"outdir\"] + ('' if conf[\"outdir\"].endswith('/') else '/')\n",
    "input_data = conf[\"data_name\"] + ('' if conf[\"data_name\"].endswith('.rds') else '.rds')\n",
    "H_outfile = output_dir + conf[\"data_name\"] + \"_H.txt\"\n",
    "y_outfile = output_dir + conf[\"data_name\"] + \"_y.txt\"\n",
    "data = readRDS(\"../../data/sbm/\" + input_data)\n",
    "\n",
    "args_dir = utils.make_directory(output_dir, 'args')\n",
    "utils.save_args(conf, args_dir + \"args.txt\")\n",
    "save_H_y(data, conf, H_outfile, y_outfile)"
   ]
  },
  {
   "cell_type": "markdown",
   "id": "ad603fef",
   "metadata": {},
   "source": [
    "### T, n, $\\rho$ =  (500, 200, 0.9)"
   ]
  },
  {
   "cell_type": "code",
   "execution_count": 20,
   "id": "1bcbd842",
   "metadata": {},
   "outputs": [],
   "source": [
    "conf = {\n",
    "    \"outdir\": \"../../output/sbm4\",\n",
    "    \"data_name\": \"sbm_rho09n200t500.rds\",\n",
    "    \"form_terms\": [\"edges\", \"mutual\"],\n",
    "    \"diss_terms\": [\"edges\", \"mutual\"],\n",
    "    \"true_change_points\": [167, 333],\n",
    "}"
   ]
  },
  {
   "cell_type": "code",
   "execution_count": 21,
   "id": "3c2aefa5",
   "metadata": {},
   "outputs": [
    {
     "name": "stdout",
     "output_type": "stream",
     "text": [
      "time series length: 500\n",
      "network size: 200 x 200\n",
      "statistics dimension: 4\n",
      "Saving change statistics...\n",
      "shape of H: (500, 40000, 4)\n",
      "shape of y: (500, 40000)\n",
      "CPU times: user 3min 5s, sys: 4.26 s, total: 3min 10s\n",
      "Wall time: 3min 10s\n"
     ]
    }
   ],
   "source": [
    "%%time\n",
    "output_dir = conf[\"outdir\"] + ('' if conf[\"outdir\"].endswith('/') else '/')\n",
    "input_data = conf[\"data_name\"] + ('' if conf[\"data_name\"].endswith('.rds') else '.rds')\n",
    "H_outfile = output_dir + conf[\"data_name\"] + \"_H.txt\"\n",
    "y_outfile = output_dir + conf[\"data_name\"] + \"_y.txt\"\n",
    "data = readRDS(\"../../data/sbm/\" + input_data)\n",
    "\n",
    "args_dir = utils.make_directory(output_dir, 'args')\n",
    "utils.save_args(conf, args_dir + \"args.txt\")\n",
    "save_H_y(data, conf, H_outfile, y_outfile)"
   ]
  },
  {
   "cell_type": "markdown",
   "id": "859d180d",
   "metadata": {},
   "source": [
    "### T, n, $\\rho$ =  (500, 200, 0.5)"
   ]
  },
  {
   "cell_type": "code",
   "execution_count": 23,
   "id": "68382d34",
   "metadata": {},
   "outputs": [],
   "source": [
    "conf = {\n",
    "    \"outdir\": \"../../output/sbm5\",\n",
    "    \"data_name\": \"sbm_rho05n200t500.rds\",\n",
    "    \"form_terms\": [\"edges\", \"mutual\"],\n",
    "    \"diss_terms\": [\"edges\", \"mutual\"],\n",
    "    \"true_change_points\": [167, 333],\n",
    "}"
   ]
  },
  {
   "cell_type": "code",
   "execution_count": 24,
   "id": "b35e4515",
   "metadata": {},
   "outputs": [
    {
     "name": "stdout",
     "output_type": "stream",
     "text": [
      "time series length: 500\n",
      "network size: 200 x 200\n",
      "statistics dimension: 4\n",
      "Saving change statistics...\n",
      "shape of H: (500, 40000, 4)\n",
      "shape of y: (500, 40000)\n",
      "CPU times: user 2min 54s, sys: 2.62 s, total: 2min 56s\n",
      "Wall time: 2min 57s\n"
     ]
    }
   ],
   "source": [
    "%%time\n",
    "output_dir = conf[\"outdir\"] + ('' if conf[\"outdir\"].endswith('/') else '/')\n",
    "input_data = conf[\"data_name\"] + ('' if conf[\"data_name\"].endswith('.rds') else '.rds')\n",
    "H_outfile = output_dir + conf[\"data_name\"] + \"_H.txt\"\n",
    "y_outfile = output_dir + conf[\"data_name\"] + \"_y.txt\"\n",
    "data = readRDS(\"../../data/sbm/\" + input_data)\n",
    "\n",
    "args_dir = utils.make_directory(output_dir, 'args')\n",
    "utils.save_args(conf, args_dir + \"args.txt\")\n",
    "save_H_y(data, conf, H_outfile, y_outfile)"
   ]
  },
  {
   "cell_type": "markdown",
   "id": "91f65443",
   "metadata": {},
   "source": [
    "\n",
    "### T, n, $\\rho$ =  (500, 200, 0)"
   ]
  },
  {
   "cell_type": "code",
   "execution_count": 27,
   "id": "1abb4472",
   "metadata": {},
   "outputs": [],
   "source": [
    "conf = {\n",
    "    \"outdir\": \"../../output/sbm6\",\n",
    "    \"data_name\": \"sbm_rho00n200t500.rds\",\n",
    "    \"form_terms\": [\"edges\", \"mutual\"],\n",
    "    \"diss_terms\": [\"edges\", \"mutual\"],\n",
    "    \"true_change_points\": [167, 333],\n",
    "}"
   ]
  },
  {
   "cell_type": "code",
   "execution_count": 28,
   "id": "f53eb9cb",
   "metadata": {},
   "outputs": [
    {
     "name": "stdout",
     "output_type": "stream",
     "text": [
      "time series length: 500\n",
      "network size: 200 x 200\n",
      "statistics dimension: 4\n",
      "Saving change statistics...\n",
      "shape of H: (500, 40000, 4)\n",
      "shape of y: (500, 40000)\n",
      "CPU times: user 3min 10s, sys: 3.34 s, total: 3min 13s\n",
      "Wall time: 3min 15s\n"
     ]
    }
   ],
   "source": [
    "%%time\n",
    "output_dir = conf[\"outdir\"] + ('' if conf[\"outdir\"].endswith('/') else '/')\n",
    "input_data = conf[\"data_name\"] + ('' if conf[\"data_name\"].endswith('.rds') else '.rds')\n",
    "H_outfile = output_dir + conf[\"data_name\"] + \"_H.txt\"\n",
    "y_outfile = output_dir + conf[\"data_name\"] + \"_y.txt\"\n",
    "data = readRDS(\"../../data/sbm/\" + input_data)\n",
    "\n",
    "args_dir = utils.make_directory(output_dir, 'args')\n",
    "utils.save_args(conf, args_dir + \"args.txt\")\n",
    "save_H_y(data, conf, H_outfile, y_outfile)"
   ]
  },
  {
   "cell_type": "markdown",
   "id": "2b3cf6e0",
   "metadata": {},
   "source": [
    "# ERGM"
   ]
  },
  {
   "cell_type": "code",
   "execution_count": null,
   "id": "75159ce7",
   "metadata": {},
   "outputs": [],
   "source": [
    "\n"
   ]
  }
 ],
 "metadata": {
  "kernelspec": {
   "display_name": "Python 3 (ipykernel)",
   "language": "python",
   "name": "python3"
  },
  "language_info": {
   "codemirror_mode": {
    "name": "ipython",
    "version": 3
   },
   "file_extension": ".py",
   "mimetype": "text/x-python",
   "name": "python",
   "nbconvert_exporter": "python",
   "pygments_lexer": "ipython3",
   "version": "3.9.9"
  }
 },
 "nbformat": 4,
 "nbformat_minor": 5
}
